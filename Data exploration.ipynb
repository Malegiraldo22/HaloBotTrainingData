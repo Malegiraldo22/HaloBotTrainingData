{
 "cells": [
  {
   "cell_type": "code",
   "execution_count": 1,
   "metadata": {},
   "outputs": [],
   "source": [
    "from google.oauth2 import service_account\n",
    "import pandas as pd\n",
    "import gspread\n",
    "import json\n",
    "import os\n",
    "from dotenv import load_dotenv\n",
    "import matplotlib.pyplot as plt\n",
    "import seaborn as sns\n",
    "import plotly.express as px\n",
    "import plotly.graph_objects as go\n",
    "import textwrap\n",
    "import google.generativeai as genai\n",
    "from IPython.display import Markdown\n",
    "from PIL import Image\n",
    "from io import BytesIO"
   ]
  },
  {
   "cell_type": "code",
   "execution_count": 2,
   "metadata": {},
   "outputs": [],
   "source": [
    "#Import the json data\n",
    "load_dotenv()\n",
    "google_json = os.getenv('GOOGLE_JSON')"
   ]
  },
  {
   "cell_type": "code",
   "execution_count": 3,
   "metadata": {},
   "outputs": [],
   "source": [
    "service_account_info = json.loads(google_json)\n",
    "credentials = service_account.Credentials.from_service_account_info(service_account_info)"
   ]
  },
  {
   "cell_type": "code",
   "execution_count": 4,
   "metadata": {},
   "outputs": [],
   "source": [
    "scope = ['https://spreadsheets.google.com/feeds','https://www.googleapis.com/auth/drive']\n",
    "creds_with_scope = credentials.with_scopes(scope)"
   ]
  },
  {
   "cell_type": "code",
   "execution_count": 5,
   "metadata": {},
   "outputs": [],
   "source": [
    "client = gspread.authorize(creds_with_scope)"
   ]
  },
  {
   "cell_type": "code",
   "execution_count": 6,
   "metadata": {},
   "outputs": [],
   "source": [
    "spreadsheet = client.open_by_url(os.getenv('GOOGLE_SHEET'))"
   ]
  },
  {
   "cell_type": "code",
   "execution_count": 7,
   "metadata": {},
   "outputs": [],
   "source": [
    "worksheet = spreadsheet.get_worksheet(0)"
   ]
  },
  {
   "cell_type": "code",
   "execution_count": 8,
   "metadata": {},
   "outputs": [],
   "source": [
    "records_data = worksheet.get_all_records()"
   ]
  },
  {
   "cell_type": "code",
   "execution_count": 9,
   "metadata": {},
   "outputs": [],
   "source": [
    "records_df = pd.DataFrame.from_dict(records_data)"
   ]
  },
  {
   "cell_type": "code",
   "execution_count": 10,
   "metadata": {
    "metadata": {}
   },
   "outputs": [
    {
     "data": {
      "text/html": [
       "<div>\n",
       "<style scoped>\n",
       "    .dataframe tbody tr th:only-of-type {\n",
       "        vertical-align: middle;\n",
       "    }\n",
       "\n",
       "    .dataframe tbody tr th {\n",
       "        vertical-align: top;\n",
       "    }\n",
       "\n",
       "    .dataframe thead th {\n",
       "        text-align: right;\n",
       "    }\n",
       "</style>\n",
       "<table border=\"1\" class=\"dataframe\">\n",
       "  <thead>\n",
       "    <tr style=\"text-align: right;\">\n",
       "      <th></th>\n",
       "      <th>Date time</th>\n",
       "      <th>Kills</th>\n",
       "      <th>Deaths</th>\n",
       "      <th>Accuracy</th>\n",
       "      <th>Shots Fired</th>\n",
       "      <th>Shots Hit</th>\n",
       "      <th>Damage Dealt</th>\n",
       "      <th>Damage Taken</th>\n",
       "      <th>Headshot Kills</th>\n",
       "      <th>Notes</th>\n",
       "      <th>K/D Ratio</th>\n",
       "    </tr>\n",
       "  </thead>\n",
       "  <tbody>\n",
       "    <tr>\n",
       "      <th>0</th>\n",
       "      <td>23/02/2024 15:40</td>\n",
       "      <td>26</td>\n",
       "      <td>10</td>\n",
       "      <td>49.65</td>\n",
       "      <td>441</td>\n",
       "      <td>219</td>\n",
       "      <td>9206</td>\n",
       "      <td>5252</td>\n",
       "      <td></td>\n",
       "      <td></td>\n",
       "      <td>2.6</td>\n",
       "    </tr>\n",
       "    <tr>\n",
       "      <th>1</th>\n",
       "      <td>23/02/2024 16:17</td>\n",
       "      <td>23</td>\n",
       "      <td>11</td>\n",
       "      <td>48.80</td>\n",
       "      <td>420</td>\n",
       "      <td>205</td>\n",
       "      <td>8463</td>\n",
       "      <td>4917</td>\n",
       "      <td></td>\n",
       "      <td></td>\n",
       "      <td>2.1</td>\n",
       "    </tr>\n",
       "    <tr>\n",
       "      <th>2</th>\n",
       "      <td>23/02/2024 16:35</td>\n",
       "      <td>22</td>\n",
       "      <td>14</td>\n",
       "      <td>45.33</td>\n",
       "      <td>450</td>\n",
       "      <td>204</td>\n",
       "      <td>7646</td>\n",
       "      <td>5493</td>\n",
       "      <td></td>\n",
       "      <td></td>\n",
       "      <td>1.6</td>\n",
       "    </tr>\n",
       "    <tr>\n",
       "      <th>3</th>\n",
       "      <td>23/02/2024 16:50</td>\n",
       "      <td>25</td>\n",
       "      <td>15</td>\n",
       "      <td>42.60</td>\n",
       "      <td>399</td>\n",
       "      <td>170</td>\n",
       "      <td>7566</td>\n",
       "      <td>5231</td>\n",
       "      <td></td>\n",
       "      <td></td>\n",
       "      <td>1.7</td>\n",
       "    </tr>\n",
       "    <tr>\n",
       "      <th>4</th>\n",
       "      <td>23/02/2024 17:13</td>\n",
       "      <td>28</td>\n",
       "      <td>14</td>\n",
       "      <td>44.26</td>\n",
       "      <td>436</td>\n",
       "      <td>193</td>\n",
       "      <td>8615</td>\n",
       "      <td>5941</td>\n",
       "      <td></td>\n",
       "      <td></td>\n",
       "      <td>2.0</td>\n",
       "    </tr>\n",
       "    <tr>\n",
       "      <th>5</th>\n",
       "      <td>23/02/2024 23:17</td>\n",
       "      <td>66</td>\n",
       "      <td>20</td>\n",
       "      <td>43.10</td>\n",
       "      <td>740</td>\n",
       "      <td>319</td>\n",
       "      <td>15396</td>\n",
       "      <td>8348</td>\n",
       "      <td></td>\n",
       "      <td>Changed to HCS:FFA</td>\n",
       "      <td>3.3</td>\n",
       "    </tr>\n",
       "    <tr>\n",
       "      <th>6</th>\n",
       "      <td>24/02/2024 18:09</td>\n",
       "      <td>61</td>\n",
       "      <td>25</td>\n",
       "      <td>42.73</td>\n",
       "      <td>681</td>\n",
       "      <td>291</td>\n",
       "      <td>13331</td>\n",
       "      <td>9140</td>\n",
       "      <td></td>\n",
       "      <td>First match of the day</td>\n",
       "      <td>2.4</td>\n",
       "    </tr>\n",
       "    <tr>\n",
       "      <th>7</th>\n",
       "      <td>24/02/2024 18:26</td>\n",
       "      <td>71</td>\n",
       "      <td>18</td>\n",
       "      <td>42.30</td>\n",
       "      <td>773</td>\n",
       "      <td>327</td>\n",
       "      <td>15292</td>\n",
       "      <td>8232</td>\n",
       "      <td></td>\n",
       "      <td></td>\n",
       "      <td>3.9</td>\n",
       "    </tr>\n",
       "    <tr>\n",
       "      <th>8</th>\n",
       "      <td>24/02/2024 20:38</td>\n",
       "      <td>77</td>\n",
       "      <td>14</td>\n",
       "      <td>45.66</td>\n",
       "      <td>830</td>\n",
       "      <td>379</td>\n",
       "      <td>16861</td>\n",
       "      <td>7697</td>\n",
       "      <td></td>\n",
       "      <td></td>\n",
       "      <td>5.5</td>\n",
       "    </tr>\n",
       "    <tr>\n",
       "      <th>9</th>\n",
       "      <td>25/02/2024 21:27</td>\n",
       "      <td>77</td>\n",
       "      <td>19</td>\n",
       "      <td>47.09</td>\n",
       "      <td>688</td>\n",
       "      <td>324</td>\n",
       "      <td>15099</td>\n",
       "      <td>7842</td>\n",
       "      <td></td>\n",
       "      <td></td>\n",
       "      <td>4.1</td>\n",
       "    </tr>\n",
       "    <tr>\n",
       "      <th>10</th>\n",
       "      <td>25/02/2024 21:46</td>\n",
       "      <td>58</td>\n",
       "      <td>21</td>\n",
       "      <td>43.73</td>\n",
       "      <td>670</td>\n",
       "      <td>293</td>\n",
       "      <td>13638</td>\n",
       "      <td>7961</td>\n",
       "      <td></td>\n",
       "      <td></td>\n",
       "      <td>2.8</td>\n",
       "    </tr>\n",
       "    <tr>\n",
       "      <th>11</th>\n",
       "      <td>27/02/2024 18:38</td>\n",
       "      <td>70</td>\n",
       "      <td>14</td>\n",
       "      <td>43.66</td>\n",
       "      <td>758</td>\n",
       "      <td>331</td>\n",
       "      <td>14933</td>\n",
       "      <td>6786</td>\n",
       "      <td></td>\n",
       "      <td></td>\n",
       "      <td>5.0</td>\n",
       "    </tr>\n",
       "    <tr>\n",
       "      <th>12</th>\n",
       "      <td>27/02/2024 19:22</td>\n",
       "      <td>70</td>\n",
       "      <td>9</td>\n",
       "      <td>47.36</td>\n",
       "      <td>796</td>\n",
       "      <td>377</td>\n",
       "      <td>15005</td>\n",
       "      <td>6825</td>\n",
       "      <td></td>\n",
       "      <td></td>\n",
       "      <td>7.8</td>\n",
       "    </tr>\n",
       "    <tr>\n",
       "      <th>13</th>\n",
       "      <td>28/02/2024 20:50</td>\n",
       "      <td>68</td>\n",
       "      <td>14</td>\n",
       "      <td>47.40</td>\n",
       "      <td>770</td>\n",
       "      <td>365</td>\n",
       "      <td>15601</td>\n",
       "      <td>7274</td>\n",
       "      <td></td>\n",
       "      <td></td>\n",
       "      <td>4.9</td>\n",
       "    </tr>\n",
       "    <tr>\n",
       "      <th>14</th>\n",
       "      <td>28/02/2024 21:12</td>\n",
       "      <td>79</td>\n",
       "      <td>10</td>\n",
       "      <td>52.37</td>\n",
       "      <td>716</td>\n",
       "      <td>375</td>\n",
       "      <td>16470</td>\n",
       "      <td>6792</td>\n",
       "      <td></td>\n",
       "      <td></td>\n",
       "      <td>7.9</td>\n",
       "    </tr>\n",
       "    <tr>\n",
       "      <th>15</th>\n",
       "      <td>29/02/2024 19:19</td>\n",
       "      <td>54</td>\n",
       "      <td>14</td>\n",
       "      <td>45.07</td>\n",
       "      <td>741</td>\n",
       "      <td>334</td>\n",
       "      <td>13421</td>\n",
       "      <td>6851</td>\n",
       "      <td></td>\n",
       "      <td></td>\n",
       "      <td>3.9</td>\n",
       "    </tr>\n",
       "    <tr>\n",
       "      <th>16</th>\n",
       "      <td>29/02/2024 20:15</td>\n",
       "      <td>66</td>\n",
       "      <td>15</td>\n",
       "      <td>48.79</td>\n",
       "      <td>744</td>\n",
       "      <td>363</td>\n",
       "      <td>15730</td>\n",
       "      <td>7017</td>\n",
       "      <td></td>\n",
       "      <td></td>\n",
       "      <td>4.4</td>\n",
       "    </tr>\n",
       "    <tr>\n",
       "      <th>17</th>\n",
       "      <td>29/02/2024 20:36</td>\n",
       "      <td>61</td>\n",
       "      <td>12</td>\n",
       "      <td>46.18</td>\n",
       "      <td>682</td>\n",
       "      <td>315</td>\n",
       "      <td>13120</td>\n",
       "      <td>6929</td>\n",
       "      <td></td>\n",
       "      <td></td>\n",
       "      <td>5.1</td>\n",
       "    </tr>\n",
       "    <tr>\n",
       "      <th>18</th>\n",
       "      <td>01/03/2024 18:40</td>\n",
       "      <td>70</td>\n",
       "      <td>12</td>\n",
       "      <td>47.28</td>\n",
       "      <td>774</td>\n",
       "      <td>366</td>\n",
       "      <td>14930</td>\n",
       "      <td>6992</td>\n",
       "      <td></td>\n",
       "      <td></td>\n",
       "      <td>5.8</td>\n",
       "    </tr>\n",
       "    <tr>\n",
       "      <th>19</th>\n",
       "      <td>01/03/2024 18:57</td>\n",
       "      <td>66</td>\n",
       "      <td>9</td>\n",
       "      <td>46.87</td>\n",
       "      <td>785</td>\n",
       "      <td>368</td>\n",
       "      <td>14851</td>\n",
       "      <td>5609</td>\n",
       "      <td></td>\n",
       "      <td></td>\n",
       "      <td>7.3</td>\n",
       "    </tr>\n",
       "    <tr>\n",
       "      <th>20</th>\n",
       "      <td>01/03/2024 20:39</td>\n",
       "      <td>75</td>\n",
       "      <td>11</td>\n",
       "      <td>49.64</td>\n",
       "      <td>836</td>\n",
       "      <td>415</td>\n",
       "      <td>16191</td>\n",
       "      <td>6459</td>\n",
       "      <td></td>\n",
       "      <td></td>\n",
       "      <td>6.8</td>\n",
       "    </tr>\n",
       "    <tr>\n",
       "      <th>21</th>\n",
       "      <td>02/03/2024 22:08</td>\n",
       "      <td>67</td>\n",
       "      <td>10</td>\n",
       "      <td>48.69</td>\n",
       "      <td>729</td>\n",
       "      <td>355</td>\n",
       "      <td>14304</td>\n",
       "      <td>6485</td>\n",
       "      <td></td>\n",
       "      <td></td>\n",
       "      <td>6.7</td>\n",
       "    </tr>\n",
       "    <tr>\n",
       "      <th>22</th>\n",
       "      <td>03/03/2024 19:57</td>\n",
       "      <td>69</td>\n",
       "      <td>13</td>\n",
       "      <td>49.86</td>\n",
       "      <td>736</td>\n",
       "      <td>367</td>\n",
       "      <td>14607</td>\n",
       "      <td>6885</td>\n",
       "      <td>39</td>\n",
       "      <td></td>\n",
       "      <td>5.3</td>\n",
       "    </tr>\n",
       "    <tr>\n",
       "      <th>23</th>\n",
       "      <td>03/03/2024 20:49</td>\n",
       "      <td>63</td>\n",
       "      <td>15</td>\n",
       "      <td>49.56</td>\n",
       "      <td>686</td>\n",
       "      <td>340</td>\n",
       "      <td>14284</td>\n",
       "      <td>7301</td>\n",
       "      <td>34</td>\n",
       "      <td></td>\n",
       "      <td>4.2</td>\n",
       "    </tr>\n",
       "    <tr>\n",
       "      <th>24</th>\n",
       "      <td>04/03/2024 22:11</td>\n",
       "      <td>66</td>\n",
       "      <td>16</td>\n",
       "      <td>48.53</td>\n",
       "      <td>719</td>\n",
       "      <td>349</td>\n",
       "      <td>14493</td>\n",
       "      <td>7262</td>\n",
       "      <td>38</td>\n",
       "      <td></td>\n",
       "      <td>4.1</td>\n",
       "    </tr>\n",
       "    <tr>\n",
       "      <th>25</th>\n",
       "      <td>05/03/2024 18:09</td>\n",
       "      <td>67</td>\n",
       "      <td>13</td>\n",
       "      <td>48.43</td>\n",
       "      <td>735</td>\n",
       "      <td>356</td>\n",
       "      <td>15097</td>\n",
       "      <td>7383</td>\n",
       "      <td>33</td>\n",
       "      <td>Instant respawn</td>\n",
       "      <td>5.2</td>\n",
       "    </tr>\n",
       "    <tr>\n",
       "      <th>26</th>\n",
       "      <td>05/03/2024 18:47</td>\n",
       "      <td>86</td>\n",
       "      <td>16</td>\n",
       "      <td>50.11</td>\n",
       "      <td>882</td>\n",
       "      <td>442</td>\n",
       "      <td>18632</td>\n",
       "      <td>7553</td>\n",
       "      <td>40</td>\n",
       "      <td></td>\n",
       "      <td>5.4</td>\n",
       "    </tr>\n",
       "    <tr>\n",
       "      <th>27</th>\n",
       "      <td>05/03/2024 19:10</td>\n",
       "      <td>72</td>\n",
       "      <td>23</td>\n",
       "      <td>47.63</td>\n",
       "      <td>718</td>\n",
       "      <td>342</td>\n",
       "      <td>16368</td>\n",
       "      <td>9629</td>\n",
       "      <td>35</td>\n",
       "      <td></td>\n",
       "      <td>3.1</td>\n",
       "    </tr>\n",
       "    <tr>\n",
       "      <th>28</th>\n",
       "      <td>05/03/2024 19:27</td>\n",
       "      <td>74</td>\n",
       "      <td>13</td>\n",
       "      <td>48.85</td>\n",
       "      <td>657</td>\n",
       "      <td>321</td>\n",
       "      <td>14883</td>\n",
       "      <td>7746</td>\n",
       "      <td>32</td>\n",
       "      <td></td>\n",
       "      <td>5.7</td>\n",
       "    </tr>\n",
       "    <tr>\n",
       "      <th>29</th>\n",
       "      <td>06/03/2024 20:36</td>\n",
       "      <td>78</td>\n",
       "      <td>19</td>\n",
       "      <td>51.66</td>\n",
       "      <td>751</td>\n",
       "      <td>388</td>\n",
       "      <td>17832</td>\n",
       "      <td>8432</td>\n",
       "      <td>41</td>\n",
       "      <td></td>\n",
       "      <td>4.1</td>\n",
       "    </tr>\n",
       "    <tr>\n",
       "      <th>30</th>\n",
       "      <td>06/03/2024 20:55</td>\n",
       "      <td>80</td>\n",
       "      <td>19</td>\n",
       "      <td>49.19</td>\n",
       "      <td>805</td>\n",
       "      <td>396</td>\n",
       "      <td>17053</td>\n",
       "      <td>8205</td>\n",
       "      <td>39</td>\n",
       "      <td></td>\n",
       "      <td>4.2</td>\n",
       "    </tr>\n",
       "    <tr>\n",
       "      <th>31</th>\n",
       "      <td>07/03/2024 19:24</td>\n",
       "      <td>65</td>\n",
       "      <td>18</td>\n",
       "      <td>47.63</td>\n",
       "      <td>783</td>\n",
       "      <td>373</td>\n",
       "      <td>14826</td>\n",
       "      <td>7631</td>\n",
       "      <td>39</td>\n",
       "      <td></td>\n",
       "      <td>3.6</td>\n",
       "    </tr>\n",
       "    <tr>\n",
       "      <th>32</th>\n",
       "      <td>07/03/2024 19:43</td>\n",
       "      <td>75</td>\n",
       "      <td>18</td>\n",
       "      <td>50.51</td>\n",
       "      <td>782</td>\n",
       "      <td>395</td>\n",
       "      <td>15946</td>\n",
       "      <td>7857</td>\n",
       "      <td>44</td>\n",
       "      <td></td>\n",
       "      <td>4.2</td>\n",
       "    </tr>\n",
       "    <tr>\n",
       "      <th>33</th>\n",
       "      <td>07/03/2024 20:36</td>\n",
       "      <td>88</td>\n",
       "      <td>10</td>\n",
       "      <td>51.08</td>\n",
       "      <td>879</td>\n",
       "      <td>449</td>\n",
       "      <td>18580</td>\n",
       "      <td>7308</td>\n",
       "      <td>48</td>\n",
       "      <td></td>\n",
       "      <td>8.8</td>\n",
       "    </tr>\n",
       "    <tr>\n",
       "      <th>34</th>\n",
       "      <td>19/03/2024 19:19</td>\n",
       "      <td>72</td>\n",
       "      <td>12</td>\n",
       "      <td>46.50</td>\n",
       "      <td>888</td>\n",
       "      <td>413</td>\n",
       "      <td>17098</td>\n",
       "      <td>7468</td>\n",
       "      <td>41</td>\n",
       "      <td>Halo Infinite Update</td>\n",
       "      <td>6.0</td>\n",
       "    </tr>\n",
       "    <tr>\n",
       "      <th>35</th>\n",
       "      <td>19/09/2024 19:52</td>\n",
       "      <td>70</td>\n",
       "      <td>19</td>\n",
       "      <td>50.37</td>\n",
       "      <td>806</td>\n",
       "      <td>406</td>\n",
       "      <td>16758</td>\n",
       "      <td>8247</td>\n",
       "      <td>39</td>\n",
       "      <td></td>\n",
       "      <td>3.7</td>\n",
       "    </tr>\n",
       "    <tr>\n",
       "      <th>36</th>\n",
       "      <td>20/03/2024 18:20</td>\n",
       "      <td>67</td>\n",
       "      <td>20</td>\n",
       "      <td>44.94</td>\n",
       "      <td>841</td>\n",
       "      <td>378</td>\n",
       "      <td>15850</td>\n",
       "      <td>9670</td>\n",
       "      <td>28</td>\n",
       "      <td></td>\n",
       "      <td>3.4</td>\n",
       "    </tr>\n",
       "    <tr>\n",
       "      <th>37</th>\n",
       "      <td>20/03/2024 18:37</td>\n",
       "      <td>79</td>\n",
       "      <td>16</td>\n",
       "      <td>48.56</td>\n",
       "      <td>799</td>\n",
       "      <td>388</td>\n",
       "      <td>16925</td>\n",
       "      <td>8147</td>\n",
       "      <td>47</td>\n",
       "      <td></td>\n",
       "      <td>4.9</td>\n",
       "    </tr>\n",
       "    <tr>\n",
       "      <th>38</th>\n",
       "      <td>20/03/2024 18:54</td>\n",
       "      <td>83</td>\n",
       "      <td>13</td>\n",
       "      <td>51.71</td>\n",
       "      <td>787</td>\n",
       "      <td>407</td>\n",
       "      <td>19022</td>\n",
       "      <td>7818</td>\n",
       "      <td>36</td>\n",
       "      <td></td>\n",
       "      <td>6.4</td>\n",
       "    </tr>\n",
       "    <tr>\n",
       "      <th>39</th>\n",
       "      <td>22/03/2024 16:15</td>\n",
       "      <td>69</td>\n",
       "      <td>24</td>\n",
       "      <td>46.79</td>\n",
       "      <td>765</td>\n",
       "      <td>358</td>\n",
       "      <td>15887</td>\n",
       "      <td>9479</td>\n",
       "      <td>34</td>\n",
       "      <td></td>\n",
       "      <td>2.9</td>\n",
       "    </tr>\n",
       "    <tr>\n",
       "      <th>40</th>\n",
       "      <td>22/03/2024 16:33</td>\n",
       "      <td>78</td>\n",
       "      <td>15</td>\n",
       "      <td>50.19</td>\n",
       "      <td>753</td>\n",
       "      <td>378</td>\n",
       "      <td>17421</td>\n",
       "      <td>8265</td>\n",
       "      <td>34</td>\n",
       "      <td></td>\n",
       "      <td>5.2</td>\n",
       "    </tr>\n",
       "    <tr>\n",
       "      <th>41</th>\n",
       "      <td>25/03/2024 17:11</td>\n",
       "      <td>83</td>\n",
       "      <td>14</td>\n",
       "      <td>53.27</td>\n",
       "      <td>764</td>\n",
       "      <td>407</td>\n",
       "      <td>18207</td>\n",
       "      <td>6437</td>\n",
       "      <td>46</td>\n",
       "      <td></td>\n",
       "      <td>5.9</td>\n",
       "    </tr>\n",
       "    <tr>\n",
       "      <th>42</th>\n",
       "      <td>25/03/2024 15:30</td>\n",
       "      <td>77</td>\n",
       "      <td>18</td>\n",
       "      <td>50.34</td>\n",
       "      <td>735</td>\n",
       "      <td>370</td>\n",
       "      <td>16375</td>\n",
       "      <td>7829</td>\n",
       "      <td>32</td>\n",
       "      <td></td>\n",
       "      <td>4.3</td>\n",
       "    </tr>\n",
       "    <tr>\n",
       "      <th>43</th>\n",
       "      <td>27/03/2024 19:00</td>\n",
       "      <td>81</td>\n",
       "      <td>15</td>\n",
       "      <td>52.46</td>\n",
       "      <td>730</td>\n",
       "      <td>383</td>\n",
       "      <td>17488</td>\n",
       "      <td>7588</td>\n",
       "      <td>39</td>\n",
       "      <td></td>\n",
       "      <td>5.4</td>\n",
       "    </tr>\n",
       "    <tr>\n",
       "      <th>44</th>\n",
       "      <td>27/03/2024 19:27</td>\n",
       "      <td>80</td>\n",
       "      <td>15</td>\n",
       "      <td>52.46</td>\n",
       "      <td>730</td>\n",
       "      <td>383</td>\n",
       "      <td>17487</td>\n",
       "      <td>7588</td>\n",
       "      <td>39</td>\n",
       "      <td></td>\n",
       "      <td>5.3</td>\n",
       "    </tr>\n",
       "    <tr>\n",
       "      <th>45</th>\n",
       "      <td>28/3/2024 19:45:00</td>\n",
       "      <td>83</td>\n",
       "      <td>19</td>\n",
       "      <td>53.55</td>\n",
       "      <td>773</td>\n",
       "      <td>414</td>\n",
       "      <td>17803</td>\n",
       "      <td>8347</td>\n",
       "      <td>46</td>\n",
       "      <td></td>\n",
       "      <td>4.4</td>\n",
       "    </tr>\n",
       "    <tr>\n",
       "      <th>46</th>\n",
       "      <td>16/05/2024 21:43</td>\n",
       "      <td>88</td>\n",
       "      <td>14</td>\n",
       "      <td>49.54</td>\n",
       "      <td>771</td>\n",
       "      <td>382</td>\n",
       "      <td>18141</td>\n",
       "      <td>8257</td>\n",
       "      <td>35</td>\n",
       "      <td></td>\n",
       "      <td>6.3</td>\n",
       "    </tr>\n",
       "  </tbody>\n",
       "</table>\n",
       "</div>"
      ],
      "text/plain": [
       "             Date time  Kills  Deaths  Accuracy  Shots Fired  Shots Hit  \\\n",
       "0     23/02/2024 15:40     26      10     49.65          441        219   \n",
       "1     23/02/2024 16:17     23      11     48.80          420        205   \n",
       "2     23/02/2024 16:35     22      14     45.33          450        204   \n",
       "3     23/02/2024 16:50     25      15     42.60          399        170   \n",
       "4     23/02/2024 17:13     28      14     44.26          436        193   \n",
       "5     23/02/2024 23:17     66      20     43.10          740        319   \n",
       "6     24/02/2024 18:09     61      25     42.73          681        291   \n",
       "7     24/02/2024 18:26     71      18     42.30          773        327   \n",
       "8     24/02/2024 20:38     77      14     45.66          830        379   \n",
       "9     25/02/2024 21:27     77      19     47.09          688        324   \n",
       "10    25/02/2024 21:46     58      21     43.73          670        293   \n",
       "11    27/02/2024 18:38     70      14     43.66          758        331   \n",
       "12    27/02/2024 19:22     70       9     47.36          796        377   \n",
       "13    28/02/2024 20:50     68      14     47.40          770        365   \n",
       "14    28/02/2024 21:12     79      10     52.37          716        375   \n",
       "15    29/02/2024 19:19     54      14     45.07          741        334   \n",
       "16    29/02/2024 20:15     66      15     48.79          744        363   \n",
       "17    29/02/2024 20:36     61      12     46.18          682        315   \n",
       "18    01/03/2024 18:40     70      12     47.28          774        366   \n",
       "19    01/03/2024 18:57     66       9     46.87          785        368   \n",
       "20    01/03/2024 20:39     75      11     49.64          836        415   \n",
       "21    02/03/2024 22:08     67      10     48.69          729        355   \n",
       "22    03/03/2024 19:57     69      13     49.86          736        367   \n",
       "23    03/03/2024 20:49     63      15     49.56          686        340   \n",
       "24    04/03/2024 22:11     66      16     48.53          719        349   \n",
       "25    05/03/2024 18:09     67      13     48.43          735        356   \n",
       "26    05/03/2024 18:47     86      16     50.11          882        442   \n",
       "27    05/03/2024 19:10     72      23     47.63          718        342   \n",
       "28    05/03/2024 19:27     74      13     48.85          657        321   \n",
       "29    06/03/2024 20:36     78      19     51.66          751        388   \n",
       "30    06/03/2024 20:55     80      19     49.19          805        396   \n",
       "31    07/03/2024 19:24     65      18     47.63          783        373   \n",
       "32    07/03/2024 19:43     75      18     50.51          782        395   \n",
       "33    07/03/2024 20:36     88      10     51.08          879        449   \n",
       "34    19/03/2024 19:19     72      12     46.50          888        413   \n",
       "35    19/09/2024 19:52     70      19     50.37          806        406   \n",
       "36    20/03/2024 18:20     67      20     44.94          841        378   \n",
       "37    20/03/2024 18:37     79      16     48.56          799        388   \n",
       "38    20/03/2024 18:54     83      13     51.71          787        407   \n",
       "39    22/03/2024 16:15     69      24     46.79          765        358   \n",
       "40    22/03/2024 16:33     78      15     50.19          753        378   \n",
       "41    25/03/2024 17:11     83      14     53.27          764        407   \n",
       "42    25/03/2024 15:30     77      18     50.34          735        370   \n",
       "43    27/03/2024 19:00     81      15     52.46          730        383   \n",
       "44    27/03/2024 19:27     80      15     52.46          730        383   \n",
       "45  28/3/2024 19:45:00     83      19     53.55          773        414   \n",
       "46    16/05/2024 21:43     88      14     49.54          771        382   \n",
       "\n",
       "    Damage Dealt  Damage Taken Headshot Kills                   Notes  \\\n",
       "0           9206          5252                                          \n",
       "1           8463          4917                                          \n",
       "2           7646          5493                                          \n",
       "3           7566          5231                                          \n",
       "4           8615          5941                                          \n",
       "5          15396          8348                     Changed to HCS:FFA   \n",
       "6          13331          9140                 First match of the day   \n",
       "7          15292          8232                                          \n",
       "8          16861          7697                                          \n",
       "9          15099          7842                                          \n",
       "10         13638          7961                                          \n",
       "11         14933          6786                                          \n",
       "12         15005          6825                                          \n",
       "13         15601          7274                                          \n",
       "14         16470          6792                                          \n",
       "15         13421          6851                                          \n",
       "16         15730          7017                                          \n",
       "17         13120          6929                                          \n",
       "18         14930          6992                                          \n",
       "19         14851          5609                                          \n",
       "20         16191          6459                                          \n",
       "21         14304          6485                                          \n",
       "22         14607          6885             39                           \n",
       "23         14284          7301             34                           \n",
       "24         14493          7262             38                           \n",
       "25         15097          7383             33         Instant respawn   \n",
       "26         18632          7553             40                           \n",
       "27         16368          9629             35                           \n",
       "28         14883          7746             32                           \n",
       "29         17832          8432             41                           \n",
       "30         17053          8205             39                           \n",
       "31         14826          7631             39                           \n",
       "32         15946          7857             44                           \n",
       "33         18580          7308             48                           \n",
       "34         17098          7468             41    Halo Infinite Update   \n",
       "35         16758          8247             39                           \n",
       "36         15850          9670             28                           \n",
       "37         16925          8147             47                           \n",
       "38         19022          7818             36                           \n",
       "39         15887          9479             34                           \n",
       "40         17421          8265             34                           \n",
       "41         18207          6437             46                           \n",
       "42         16375          7829             32                           \n",
       "43         17488          7588             39                           \n",
       "44         17487          7588             39                           \n",
       "45         17803          8347             46                           \n",
       "46         18141          8257             35                           \n",
       "\n",
       "    K/D Ratio  \n",
       "0         2.6  \n",
       "1         2.1  \n",
       "2         1.6  \n",
       "3         1.7  \n",
       "4         2.0  \n",
       "5         3.3  \n",
       "6         2.4  \n",
       "7         3.9  \n",
       "8         5.5  \n",
       "9         4.1  \n",
       "10        2.8  \n",
       "11        5.0  \n",
       "12        7.8  \n",
       "13        4.9  \n",
       "14        7.9  \n",
       "15        3.9  \n",
       "16        4.4  \n",
       "17        5.1  \n",
       "18        5.8  \n",
       "19        7.3  \n",
       "20        6.8  \n",
       "21        6.7  \n",
       "22        5.3  \n",
       "23        4.2  \n",
       "24        4.1  \n",
       "25        5.2  \n",
       "26        5.4  \n",
       "27        3.1  \n",
       "28        5.7  \n",
       "29        4.1  \n",
       "30        4.2  \n",
       "31        3.6  \n",
       "32        4.2  \n",
       "33        8.8  \n",
       "34        6.0  \n",
       "35        3.7  \n",
       "36        3.4  \n",
       "37        4.9  \n",
       "38        6.4  \n",
       "39        2.9  \n",
       "40        5.2  \n",
       "41        5.9  \n",
       "42        4.3  \n",
       "43        5.4  \n",
       "44        5.3  \n",
       "45        4.4  \n",
       "46        6.3  "
      ]
     },
     "execution_count": 10,
     "metadata": {},
     "output_type": "execute_result"
    }
   ],
   "source": [
    "records_df['K/D Ratio'] = round(records_df.Kills / records_df.Deaths, 1)\n",
    "records_df"
   ]
  },
  {
   "cell_type": "code",
   "execution_count": 11,
   "metadata": {
    "metadata": {}
   },
   "outputs": [
    {
     "data": {
      "text/plain": [
       "<matplotlib.legend.Legend at 0x21e381e8790>"
      ]
     },
     "execution_count": 11,
     "metadata": {},
     "output_type": "execute_result"
    },
    {
     "data": {
      "image/png": "[encoded data removed]",
      "text/plain": [
       "<Figure size 432x288 with 1 Axes>"
      ]
     },
     "metadata": {
      "needs_background": "light"
     },
     "output_type": "display_data"
    }
   ],
   "source": [
    "sns.lineplot(data=records_df, x=records_df.index, y='Kills', color='blue')\n",
    "sns.lineplot(data=records_df, x=records_df.index, y='Deaths', color='red')\n",
    "sns.despine(left=False, bottom=False)\n",
    "plt.title('Kills and Deaths count')\n",
    "plt.ylabel('')\n",
    "plt.legend(['Kills', 'Deaths'])"
   ]
  },
  {
   "cell_type": "code",
   "execution_count": 12,
   "metadata": {
    "metadata": {}
   },
   "outputs": [
    {
     "data": {
      "application/vnd.plotly.v1+json": {
       "config": {
        "plotlyServerURL": "https://plot.ly"
       },
       "data": [
        {
         "line": {
          "color": "#FF2A6D"
         },
         "mode": "lines+markers",
         "name": "Kills",
         "type": "scatter",
         "x": [
          "23/02/2024 15:40",
          "23/02/2024 16:17",
          "23/02/2024 16:35",
          "23/02/2024 16:50",
          "23/02/2024 17:13",
          "23/02/2024 23:17",
          "24/02/2024 18:09",
          "24/02/2024 18:26",
          "24/02/2024 20:38",
          "25/02/2024 21:27",
          "25/02/2024 21:46",
          "27/02/2024 18:38",
          "27/02/2024 19:22",
          "28/02/2024 20:50",
          "28/02/2024 21:12",
          "29/02/2024 19:19",
          "29/02/2024 20:15",
          "29/02/2024 20:36",
          "01/03/2024 18:40",
          "01/03/2024 18:57",
          "01/03/2024 20:39",
          "02/03/2024 22:08",
          "03/03/2024 19:57",
          "03/03/2024 20:49",
          "04/03/2024 22:11",
          "05/03/2024 18:09",
          "05/03/2024 18:47",
          "05/03/2024 19:10",
          "05/03/2024 19:27",
          "06/03/2024 20:36",
          "06/03/2024 20:55",
          "07/03/2024 19:24",
          "07/03/2024 19:43",
          "07/03/2024 20:36",
          "19/03/2024 19:19",
          "19/09/2024 19:52",
          "20/03/2024 18:20",
          "20/03/2024 18:37",
          "20/03/2024 18:54",
          "22/03/2024 16:15",
          "22/03/2024 16:33",
          "25/03/2024 17:11",
          "25/03/2024 15:30",
          "27/03/2024 19:00",
          "27/03/2024 19:27",
          "28/3/2024 19:45:00",
          "16/05/2024 21:43"
         ],
         "y": [
          26,
          23,
          22,
          25,
          28,
          66,
          61,
          71,
          77,
          77,
          58,
          70,
          70,
          68,
          79,
          54,
          66,
          61,
          70,
          66,
          75,
          67,
          69,
          63,
          66,
          67,
          86,
          72,
          74,
          78,
          80,
          65,
          75,
          88,
          72,
          70,
          67,
          79,
          83,
          69,
          78,
          83,
          77,
          81,
          80,
          83,
          88
         ]
        },
        {
         "line": {
          "color": "#05D9E8"
         },
         "mode": "lines+markers",
         "name": "Deaths",
         "type": "scatter",
         "x": [
          "23/02/2024 15:40",
          "23/02/2024 16:17",
          "23/02/2024 16:35",
          "23/02/2024 16:50",
          "23/02/2024 17:13",
          "23/02/2024 23:17",
          "24/02/2024 18:09",
          "24/02/2024 18:26",
          "24/02/2024 20:38",
          "25/02/2024 21:27",
          "25/02/2024 21:46",
          "27/02/2024 18:38",
          "27/02/2024 19:22",
          "28/02/2024 20:50",
          "28/02/2024 21:12",
          "29/02/2024 19:19",
          "29/02/2024 20:15",
          "29/02/2024 20:36",
          "01/03/2024 18:40",
          "01/03/2024 18:57",
          "01/03/2024 20:39",
          "02/03/2024 22:08",
          "03/03/2024 19:57",
          "03/03/2024 20:49",
          "04/03/2024 22:11",
          "05/03/2024 18:09",
          "05/03/2024 18:47",
          "05/03/2024 19:10",
          "05/03/2024 19:27",
          "06/03/2024 20:36",
          "06/03/2024 20:55",
          "07/03/2024 19:24",
          "07/03/2024 19:43",
          "07/03/2024 20:36",
          "19/03/2024 19:19",
          "19/09/2024 19:52",
          "20/03/2024 18:20",
          "20/03/2024 18:37",
          "20/03/2024 18:54",
          "22/03/2024 16:15",
          "22/03/2024 16:33",
          "25/03/2024 17:11",
          "25/03/2024 15:30",
          "27/03/2024 19:00",
          "27/03/2024 19:27",
          "28/3/2024 19:45:00",
          "16/05/2024 21:43"
         ],
         "y": [
          10,
          11,
          14,
          15,
          14,
          20,
          25,
          18,
          14,
          19,
          21,
          14,
          9,
          14,
          10,
          14,
          15,
          12,
          12,
          9,
          11,
          10,
          13,
          15,
          16,
          13,
          16,
          23,
          13,
          19,
          19,
          18,
          18,
          10,
          12,
          19,
          20,
          16,
          13,
          24,
          15,
          14,
          18,
          15,
          15,
          19,
          14
         ]
        }
       ],
       "layout": {
        "hovermode": "x",
        "plot_bgcolor": "#01012B",
        "template": {
         "data": {
          "bar": [
           {
            "error_x": {
             "color": "#2a3f5f"
            },
            "error_y": {
             "color": "#2a3f5f"
            },
            "marker": {
             "line": {
              "color": "#E5ECF6",
              "width": 0.5
             },
             "pattern": {
              "fillmode": "overlay",
              "size": 10,
              "solidity": 0.2
             }
            },
            "type": "bar"
           }
          ],
          "barpolar": [
           {
            "marker": {
             "line": {
              "color": "#E5ECF6",
              "width": 0.5
             },
             "pattern": {
              "fillmode": "overlay",
              "size": 10,
              "solidity": 0.2
             }
            },
            "type": "barpolar"
           }
          ],
          "carpet": [
           {
            "aaxis": {
             "endlinecolor": "#2a3f5f",
             "gridcolor": "white",
             "linecolor": "white",
             "minorgridcolor": "white",
             "startlinecolor": "#2a3f5f"
            },
            "baxis": {
             "endlinecolor": "#2a3f5f",
             "gridcolor": "white",
             "linecolor": "white",
             "minorgridcolor": "white",
             "startlinecolor": "#2a3f5f"
            },
            "type": "carpet"
           }
          ],
          "choropleth": [
           {
            "colorbar": {
             "outlinewidth": 0,
             "ticks": ""
            },
            "type": "choropleth"
           }
          ],
          "contour": [
           {
            "colorbar": {
             "outlinewidth": 0,
             "ticks": ""
            },
            "colorscale": [
             [
              0,
              "#0d0887"
             ],
             [
              0.1111111111111111,
              "#46039f"
             ],
             [
              0.2222222222222222,
              "#7201a8"
             ],
             [
              0.3333333333333333,
              "#9c179e"
             ],
             [
              0.4444444444444444,
              "#bd3786"
             ],
             [
              0.5555555555555556,
              "#d8576b"
             ],
             [
              0.6666666666666666,
              "#ed7953"
             ],
             [
              0.7777777777777778,
              "#fb9f3a"
             ],
             [
              0.8888888888888888,
              "#fdca26"
             ],
             [
              1,
              "#f0f921"
             ]
            ],
            "type": "contour"
           }
          ],
          "contourcarpet": [
           {
            "colorbar": {
             "outlinewidth": 0,
             "ticks": ""
            },
            "type": "contourcarpet"
           }
          ],
          "heatmap": [
           {
            "colorbar": {
             "outlinewidth": 0,
             "ticks": ""
            },
            "colorscale": [
             [
              0,
              "#0d0887"
             ],
             [
              0.1111111111111111,
              "#46039f"
             ],
             [
              0.2222222222222222,
              "#7201a8"
             ],
             [
              0.3333333333333333,
              "#9c179e"
             ],
             [
              0.4444444444444444,
              "#bd3786"
             ],
             [
              0.5555555555555556,
              "#d8576b"
             ],
             [
              0.6666666666666666,
              "#ed7953"
             ],
             [
              0.7777777777777778,
              "#fb9f3a"
             ],
             [
              0.8888888888888888,
              "#fdca26"
             ],
             [
              1,
              "#f0f921"
             ]
            ],
            "type": "heatmap"
           }
          ],
          "heatmapgl": [
           {
            "colorbar": {
             "outlinewidth": 0,
             "ticks": ""
            },
            "colorscale": [
             [
              0,
              "#0d0887"
             ],
             [
              0.1111111111111111,
              "#46039f"
             ],
             [
              0.2222222222222222,
              "#7201a8"
             ],
             [
              0.3333333333333333,
              "#9c179e"
             ],
             [
              0.4444444444444444,
              "#bd3786"
             ],
             [
              0.5555555555555556,
              "#d8576b"
             ],
             [
              0.6666666666666666,
              "#ed7953"
             ],
             [
              0.7777777777777778,
              "#fb9f3a"
             ],
             [
              0.8888888888888888,
              "#fdca26"
             ],
             [
              1,
              "#f0f921"
             ]
            ],
            "type": "heatmapgl"
           }
          ],
          "histogram": [
           {
            "marker": {
             "pattern": {
              "fillmode": "overlay",
              "size": 10,
              "solidity": 0.2
             }
            },
            "type": "histogram"
           }
          ],
          "histogram2d": [
           {
            "colorbar": {
             "outlinewidth": 0,
             "ticks": ""
            },
            "colorscale": [
             [
              0,
              "#0d0887"
             ],
             [
              0.1111111111111111,
              "#46039f"
             ],
             [
              0.2222222222222222,
              "#7201a8"
             ],
             [
              0.3333333333333333,
              "#9c179e"
             ],
             [
              0.4444444444444444,
              "#bd3786"
             ],
             [
              0.5555555555555556,
              "#d8576b"
             ],
             [
              0.6666666666666666,
              "#ed7953"
             ],
             [
              0.7777777777777778,
              "#fb9f3a"
             ],
             [
              0.8888888888888888,
              "#fdca26"
             ],
             [
              1,
              "#f0f921"
             ]
            ],
            "type": "histogram2d"
           }
          ],
          "histogram2dcontour": [
           {
            "colorbar": {
             "outlinewidth": 0,
             "ticks": ""
            },
            "colorscale": [
             [
              0,
              "#0d0887"
             ],
             [
              0.1111111111111111,
              "#46039f"
             ],
             [
              0.2222222222222222,
              "#7201a8"
             ],
             [
              0.3333333333333333,
              "#9c179e"
             ],
             [
              0.4444444444444444,
              "#bd3786"
             ],
             [
              0.5555555555555556,
              "#d8576b"
             ],
             [
              0.6666666666666666,
              "#ed7953"
             ],
             [
              0.7777777777777778,
              "#fb9f3a"
             ],
             [
              0.8888888888888888,
              "#fdca26"
             ],
             [
              1,
              "#f0f921"
             ]
            ],
            "type": "histogram2dcontour"
           }
          ],
          "mesh3d": [
           {
            "colorbar": {
             "outlinewidth": 0,
             "ticks": ""
            },
            "type": "mesh3d"
           }
          ],
          "parcoords": [
           {
            "line": {
             "colorbar": {
              "outlinewidth": 0,
              "ticks": ""
             }
            },
            "type": "parcoords"
           }
          ],
          "pie": [
           {
            "automargin": true,
            "type": "pie"
           }
          ],
          "scatter": [
           {
            "fillpattern": {
             "fillmode": "overlay",
             "size": 10,
             "solidity": 0.2
            },
            "type": "scatter"
           }
          ],
          "scatter3d": [
           {
            "line": {
             "colorbar": {
              "outlinewidth": 0,
              "ticks": ""
             }
            },
            "marker": {
             "colorbar": {
              "outlinewidth": 0,
              "ticks": ""
             }
            },
            "type": "scatter3d"
           }
          ],
          "scattercarpet": [
           {
            "marker": {
             "colorbar": {
              "outlinewidth": 0,
              "ticks": ""
             }
            },
            "type": "scattercarpet"
           }
          ],
          "scattergeo": [
           {
            "marker": {
             "colorbar": {
              "outlinewidth": 0,
              "ticks": ""
             }
            },
            "type": "scattergeo"
           }
          ],
          "scattergl": [
           {
            "marker": {
             "colorbar": {
              "outlinewidth": 0,
              "ticks": ""
             }
            },
            "type": "scattergl"
           }
          ],
          "scattermapbox": [
           {
            "marker": {
             "colorbar": {
              "outlinewidth": 0,
              "ticks": ""
             }
            },
            "type": "scattermapbox"
           }
          ],
          "scatterpolar": [
           {
            "marker": {
             "colorbar": {
              "outlinewidth": 0,
              "ticks": ""
             }
            },
            "type": "scatterpolar"
           }
          ],
          "scatterpolargl": [
           {
            "marker": {
             "colorbar": {
              "outlinewidth": 0,
              "ticks": ""
             }
            },
            "type": "scatterpolargl"
           }
          ],
          "scatterternary": [
           {
            "marker": {
             "colorbar": {
              "outlinewidth": 0,
              "ticks": ""
             }
            },
            "type": "scatterternary"
           }
          ],
          "surface": [
           {
            "colorbar": {
             "outlinewidth": 0,
             "ticks": ""
            },
            "colorscale": [
             [
              0,
              "#0d0887"
             ],
             [
              0.1111111111111111,
              "#46039f"
             ],
             [
              0.2222222222222222,
              "#7201a8"
             ],
             [
              0.3333333333333333,
              "#9c179e"
             ],
             [
              0.4444444444444444,
              "#bd3786"
             ],
             [
              0.5555555555555556,
              "#d8576b"
             ],
             [
              0.6666666666666666,
              "#ed7953"
             ],
             [
              0.7777777777777778,
              "#fb9f3a"
             ],
             [
              0.8888888888888888,
              "#fdca26"
             ],
             [
              1,
              "#f0f921"
             ]
            ],
            "type": "surface"
           }
          ],
          "table": [
           {
            "cells": {
             "fill": {
              "color": "#EBF0F8"
             },
             "line": {
              "color": "white"
             }
            },
            "header": {
             "fill": {
              "color": "#C8D4E3"
             },
             "line": {
              "color": "white"
             }
            },
            "type": "table"
           }
          ]
         },
         "layout": {
          "annotationdefaults": {
           "arrowcolor": "#2a3f5f",
           "arrowhead": 0,
           "arrowwidth": 1
          },
          "autotypenumbers": "strict",
          "coloraxis": {
           "colorbar": {
            "outlinewidth": 0,
            "ticks": ""
           }
          },
          "colorscale": {
           "diverging": [
            [
             0,
             "#8e0152"
            ],
            [
             0.1,
             "#c51b7d"
            ],
            [
             0.2,
             "#de77ae"
            ],
            [
             0.3,
             "#f1b6da"
            ],
            [
             0.4,
             "#fde0ef"
            ],
            [
             0.5,
             "#f7f7f7"
            ],
            [
             0.6,
             "#e6f5d0"
            ],
            [
             0.7,
             "#b8e186"
            ],
            [
             0.8,
             "#7fbc41"
            ],
            [
             0.9,
             "#4d9221"
            ],
            [
             1,
             "#276419"
            ]
           ],
           "sequential": [
            [
             0,
             "#0d0887"
            ],
            [
             0.1111111111111111,
             "#46039f"
            ],
            [
             0.2222222222222222,
             "#7201a8"
            ],
            [
             0.3333333333333333,
             "#9c179e"
            ],
            [
             0.4444444444444444,
             "#bd3786"
            ],
            [
             0.5555555555555556,
             "#d8576b"
            ],
            [
             0.6666666666666666,
             "#ed7953"
            ],
            [
             0.7777777777777778,
             "#fb9f3a"
            ],
            [
             0.8888888888888888,
             "#fdca26"
            ],
            [
             1,
             "#f0f921"
            ]
           ],
           "sequentialminus": [
            [
             0,
             "#0d0887"
            ],
            [
             0.1111111111111111,
             "#46039f"
            ],
            [
             0.2222222222222222,
             "#7201a8"
            ],
            [
             0.3333333333333333,
             "#9c179e"
            ],
            [
             0.4444444444444444,
             "#bd3786"
            ],
            [
             0.5555555555555556,
             "#d8576b"
            ],
            [
             0.6666666666666666,
             "#ed7953"
            ],
            [
             0.7777777777777778,
             "#fb9f3a"
            ],
            [
             0.8888888888888888,
             "#fdca26"
            ],
            [
             1,
             "#f0f921"
            ]
           ]
          },
          "colorway": [
           "#636efa",
           "#EF553B",
           "#00cc96",
           "#ab63fa",
           "#FFA15A",
           "#19d3f3",
           "#FF6692",
           "#B6E880",
           "#FF97FF",
           "#FECB52"
          ],
          "font": {
           "color": "#2a3f5f"
          },
          "geo": {
           "bgcolor": "white",
           "lakecolor": "white",
           "landcolor": "#E5ECF6",
           "showlakes": true,
           "showland": true,
           "subunitcolor": "white"
          },
          "hoverlabel": {
           "align": "left"
          },
          "hovermode": "closest",
          "mapbox": {
           "style": "light"
          },
          "paper_bgcolor": "white",
          "plot_bgcolor": "#E5ECF6",
          "polar": {
           "angularaxis": {
            "gridcolor": "white",
            "linecolor": "white",
            "ticks": ""
           },
           "bgcolor": "#E5ECF6",
           "radialaxis": {
            "gridcolor": "white",
            "linecolor": "white",
            "ticks": ""
           }
          },
          "scene": {
           "xaxis": {
            "backgroundcolor": "#E5ECF6",
            "gridcolor": "white",
            "gridwidth": 2,
            "linecolor": "white",
            "showbackground": true,
            "ticks": "",
            "zerolinecolor": "white"
           },
           "yaxis": {
            "backgroundcolor": "#E5ECF6",
            "gridcolor": "white",
            "gridwidth": 2,
            "linecolor": "white",
            "showbackground": true,
            "ticks": "",
            "zerolinecolor": "white"
           },
           "zaxis": {
            "backgroundcolor": "#E5ECF6",
            "gridcolor": "white",
            "gridwidth": 2,
            "linecolor": "white",
            "showbackground": true,
            "ticks": "",
            "zerolinecolor": "white"
           }
          },
          "shapedefaults": {
           "line": {
            "color": "#2a3f5f"
           }
          },
          "ternary": {
           "aaxis": {
            "gridcolor": "white",
            "linecolor": "white",
            "ticks": ""
           },
           "baxis": {
            "gridcolor": "white",
            "linecolor": "white",
            "ticks": ""
           },
           "bgcolor": "#E5ECF6",
           "caxis": {
            "gridcolor": "white",
            "linecolor": "white",
            "ticks": ""
           }
          },
          "title": {
           "x": 0.05
          },
          "xaxis": {
           "automargin": true,
           "gridcolor": "white",
           "linecolor": "white",
           "ticks": "",
           "title": {
            "standoff": 15
           },
           "zerolinecolor": "white",
           "zerolinewidth": 2
          },
          "yaxis": {
           "automargin": true,
           "gridcolor": "white",
           "linecolor": "white",
           "ticks": "",
           "title": {
            "standoff": 15
           },
           "zerolinecolor": "white",
           "zerolinewidth": 2
          }
         }
        },
        "title": {
         "text": "Last Games"
        }
       }
      }
     },
     "metadata": {},
     "output_type": "display_data"
    }
   ],
   "source": [
    "fig = go.Figure()\n",
    "fig.add_trace(go.Scatter(x=records_df['Date time'], y=records_df['Kills'], mode='lines+markers', name='Kills', line=dict(color='#FF2A6D')))\n",
    "fig.add_trace(go.Scatter(x=records_df['Date time'], y=records_df['Deaths'], mode='lines+markers', name='Deaths', line=dict(color='#05D9E8')))\n",
    "fig.update_layout(title='Last Games', hovermode='x', plot_bgcolor='#01012B')"
   ]
  },
  {
   "cell_type": "code",
   "execution_count": 13,
   "metadata": {
    "metadata": {}
   },
   "outputs": [
    {
     "data": {
      "text/plain": [
       "<matplotlib.legend.Legend at 0x21e3a5ca8b0>"
      ]
     },
     "execution_count": 13,
     "metadata": {},
     "output_type": "execute_result"
    },
    {
     "data": {
      "image/png": "[encoded data removed]",
      "text/plain": [
       "<Figure size 432x288 with 1 Axes>"
      ]
     },
     "metadata": {
      "needs_background": "light"
     },
     "output_type": "display_data"
    }
   ],
   "source": [
    "sns.lineplot(data=records_df, x=records_df.index, y='Shots Fired', color='blue')\n",
    "sns.lineplot(data=records_df, x=records_df.index, y='Shots Hit', color='red')\n",
    "sns.despine(left=False, bottom=False)\n",
    "plt.title('Shots Fired and Hits')\n",
    "plt.ylabel('')\n",
    "plt.legend(['Shots Fired', 'Shots Hit'])"
   ]
  },
  {
   "cell_type": "code",
   "execution_count": 14,
   "metadata": {
    "metadata": {}
   },
   "outputs": [
    {
     "data": {
      "application/vnd.plotly.v1+json": {
       "config": {
        "plotlyServerURL": "https://plot.ly"
       },
       "data": [
        {
         "line": {
          "color": "#FF2A6D"
         },
         "mode": "lines+markers",
         "name": "Shots Fired",
         "type": "scatter",
         "x": [
          "23/02/2024 15:40",
          "23/02/2024 16:17",
          "23/02/2024 16:35",
          "23/02/2024 16:50",
          "23/02/2024 17:13",
          "23/02/2024 23:17",
          "24/02/2024 18:09",
          "24/02/2024 18:26",
          "24/02/2024 20:38",
          "25/02/2024 21:27",
          "25/02/2024 21:46",
          "27/02/2024 18:38",
          "27/02/2024 19:22",
          "28/02/2024 20:50",
          "28/02/2024 21:12",
          "29/02/2024 19:19",
          "29/02/2024 20:15",
          "29/02/2024 20:36",
          "01/03/2024 18:40",
          "01/03/2024 18:57",
          "01/03/2024 20:39",
          "02/03/2024 22:08",
          "03/03/2024 19:57",
          "03/03/2024 20:49",
          "04/03/2024 22:11",
          "05/03/2024 18:09",
          "05/03/2024 18:47",
          "05/03/2024 19:10",
          "05/03/2024 19:27",
          "06/03/2024 20:36",
          "06/03/2024 20:55",
          "07/03/2024 19:24",
          "07/03/2024 19:43",
          "07/03/2024 20:36",
          "19/03/2024 19:19",
          "19/09/2024 19:52",
          "20/03/2024 18:20",
          "20/03/2024 18:37",
          "20/03/2024 18:54",
          "22/03/2024 16:15",
          "22/03/2024 16:33",
          "25/03/2024 17:11",
          "25/03/2024 15:30",
          "27/03/2024 19:00",
          "27/03/2024 19:27",
          "28/3/2024 19:45:00",
          "16/05/2024 21:43"
         ],
         "y": [
          441,
          420,
          450,
          399,
          436,
          740,
          681,
          773,
          830,
          688,
          670,
          758,
          796,
          770,
          716,
          741,
          744,
          682,
          774,
          785,
          836,
          729,
          736,
          686,
          719,
          735,
          882,
          718,
          657,
          751,
          805,
          783,
          782,
          879,
          888,
          806,
          841,
          799,
          787,
          765,
          753,
          764,
          735,
          730,
          730,
          773,
          771
         ]
        },
        {
         "line": {
          "color": "#05D9E8"
         },
         "mode": "lines+markers",
         "name": "Shots Hit",
         "type": "scatter",
         "x": [
          "23/02/2024 15:40",
          "23/02/2024 16:17",
          "23/02/2024 16:35",
          "23/02/2024 16:50",
          "23/02/2024 17:13",
          "23/02/2024 23:17",
          "24/02/2024 18:09",
          "24/02/2024 18:26",
          "24/02/2024 20:38",
          "25/02/2024 21:27",
          "25/02/2024 21:46",
          "27/02/2024 18:38",
          "27/02/2024 19:22",
          "28/02/2024 20:50",
          "28/02/2024 21:12",
          "29/02/2024 19:19",
          "29/02/2024 20:15",
          "29/02/2024 20:36",
          "01/03/2024 18:40",
          "01/03/2024 18:57",
          "01/03/2024 20:39",
          "02/03/2024 22:08",
          "03/03/2024 19:57",
          "03/03/2024 20:49",
          "04/03/2024 22:11",
          "05/03/2024 18:09",
          "05/03/2024 18:47",
          "05/03/2024 19:10",
          "05/03/2024 19:27",
          "06/03/2024 20:36",
          "06/03/2024 20:55",
          "07/03/2024 19:24",
          "07/03/2024 19:43",
          "07/03/2024 20:36",
          "19/03/2024 19:19",
          "19/09/2024 19:52",
          "20/03/2024 18:20",
          "20/03/2024 18:37",
          "20/03/2024 18:54",
          "22/03/2024 16:15",
          "22/03/2024 16:33",
          "25/03/2024 17:11",
          "25/03/2024 15:30",
          "27/03/2024 19:00",
          "27/03/2024 19:27",
          "28/3/2024 19:45:00",
          "16/05/2024 21:43"
         ],
         "y": [
          219,
          205,
          204,
          170,
          193,
          319,
          291,
          327,
          379,
          324,
          293,
          331,
          377,
          365,
          375,
          334,
          363,
          315,
          366,
          368,
          415,
          355,
          367,
          340,
          349,
          356,
          442,
          342,
          321,
          388,
          396,
          373,
          395,
          449,
          413,
          406,
          378,
          388,
          407,
          358,
          378,
          407,
          370,
          383,
          383,
          414,
          382
         ]
        }
       ],
       "layout": {
        "hovermode": "x",
        "plot_bgcolor": "#01012B",
        "template": {
         "data": {
          "bar": [
           {
            "error_x": {
             "color": "#2a3f5f"
            },
            "error_y": {
             "color": "#2a3f5f"
            },
            "marker": {
             "line": {
              "color": "#E5ECF6",
              "width": 0.5
             },
             "pattern": {
              "fillmode": "overlay",
              "size": 10,
              "solidity": 0.2
             }
            },
            "type": "bar"
           }
          ],
          "barpolar": [
           {
            "marker": {
             "line": {
              "color": "#E5ECF6",
              "width": 0.5
             },
             "pattern": {
              "fillmode": "overlay",
              "size": 10,
              "solidity": 0.2
             }
            },
            "type": "barpolar"
           }
          ],
          "carpet": [
           {
            "aaxis": {
             "endlinecolor": "#2a3f5f",
             "gridcolor": "white",
             "linecolor": "white",
             "minorgridcolor": "white",
             "startlinecolor": "#2a3f5f"
            },
            "baxis": {
             "endlinecolor": "#2a3f5f",
             "gridcolor": "white",
             "linecolor": "white",
             "minorgridcolor": "white",
             "startlinecolor": "#2a3f5f"
            },
            "type": "carpet"
           }
          ],
          "choropleth": [
           {
            "colorbar": {
             "outlinewidth": 0,
             "ticks": ""
            },
            "type": "choropleth"
           }
          ],
          "contour": [
           {
            "colorbar": {
             "outlinewidth": 0,
             "ticks": ""
            },
            "colorscale": [
             [
              0,
              "#0d0887"
             ],
             [
              0.1111111111111111,
              "#46039f"
             ],
             [
              0.2222222222222222,
              "#7201a8"
             ],
             [
              0.3333333333333333,
              "#9c179e"
             ],
             [
              0.4444444444444444,
              "#bd3786"
             ],
             [
              0.5555555555555556,
              "#d8576b"
             ],
             [
              0.6666666666666666,
              "#ed7953"
             ],
             [
              0.7777777777777778,
              "#fb9f3a"
             ],
             [
              0.8888888888888888,
              "#fdca26"
             ],
             [
              1,
              "#f0f921"
             ]
            ],
            "type": "contour"
           }
          ],
          "contourcarpet": [
           {
            "colorbar": {
             "outlinewidth": 0,
             "ticks": ""
            },
            "type": "contourcarpet"
           }
          ],
          "heatmap": [
           {
            "colorbar": {
             "outlinewidth": 0,
             "ticks": ""
            },
            "colorscale": [
             [
              0,
              "#0d0887"
             ],
             [
              0.1111111111111111,
              "#46039f"
             ],
             [
              0.2222222222222222,
              "#7201a8"
             ],
             [
              0.3333333333333333,
              "#9c179e"
             ],
             [
              0.4444444444444444,
              "#bd3786"
             ],
             [
              0.5555555555555556,
              "#d8576b"
             ],
             [
              0.6666666666666666,
              "#ed7953"
             ],
             [
              0.7777777777777778,
              "#fb9f3a"
             ],
             [
              0.8888888888888888,
              "#fdca26"
             ],
             [
              1,
              "#f0f921"
             ]
            ],
            "type": "heatmap"
           }
          ],
          "heatmapgl": [
           {
            "colorbar": {
             "outlinewidth": 0,
             "ticks": ""
            },
            "colorscale": [
             [
              0,
              "#0d0887"
             ],
             [
              0.1111111111111111,
              "#46039f"
             ],
             [
              0.2222222222222222,
              "#7201a8"
             ],
             [
              0.3333333333333333,
              "#9c179e"
             ],
             [
              0.4444444444444444,
              "#bd3786"
             ],
             [
              0.5555555555555556,
              "#d8576b"
             ],
             [
              0.6666666666666666,
              "#ed7953"
             ],
             [
              0.7777777777777778,
              "#fb9f3a"
             ],
             [
              0.8888888888888888,
              "#fdca26"
             ],
             [
              1,
              "#f0f921"
             ]
            ],
            "type": "heatmapgl"
           }
          ],
          "histogram": [
           {
            "marker": {
             "pattern": {
              "fillmode": "overlay",
              "size": 10,
              "solidity": 0.2
             }
            },
            "type": "histogram"
           }
          ],
          "histogram2d": [
           {
            "colorbar": {
             "outlinewidth": 0,
             "ticks": ""
            },
            "colorscale": [
             [
              0,
              "#0d0887"
             ],
             [
              0.1111111111111111,
              "#46039f"
             ],
             [
              0.2222222222222222,
              "#7201a8"
             ],
             [
              0.3333333333333333,
              "#9c179e"
             ],
             [
              0.4444444444444444,
              "#bd3786"
             ],
             [
              0.5555555555555556,
              "#d8576b"
             ],
             [
              0.6666666666666666,
              "#ed7953"
             ],
             [
              0.7777777777777778,
              "#fb9f3a"
             ],
             [
              0.8888888888888888,
              "#fdca26"
             ],
             [
              1,
              "#f0f921"
             ]
            ],
            "type": "histogram2d"
           }
          ],
          "histogram2dcontour": [
           {
            "colorbar": {
             "outlinewidth": 0,
             "ticks": ""
            },
            "colorscale": [
             [
              0,
              "#0d0887"
             ],
             [
              0.1111111111111111,
              "#46039f"
             ],
             [
              0.2222222222222222,
              "#7201a8"
             ],
             [
              0.3333333333333333,
              "#9c179e"
             ],
             [
              0.4444444444444444,
              "#bd3786"
             ],
             [
              0.5555555555555556,
              "#d8576b"
             ],
             [
              0.6666666666666666,
              "#ed7953"
             ],
             [
              0.7777777777777778,
              "#fb9f3a"
             ],
             [
              0.8888888888888888,
              "#fdca26"
             ],
             [
              1,
              "#f0f921"
             ]
            ],
            "type": "histogram2dcontour"
           }
          ],
          "mesh3d": [
           {
            "colorbar": {
             "outlinewidth": 0,
             "ticks": ""
            },
            "type": "mesh3d"
           }
          ],
          "parcoords": [
           {
            "line": {
             "colorbar": {
              "outlinewidth": 0,
              "ticks": ""
             }
            },
            "type": "parcoords"
           }
          ],
          "pie": [
           {
            "automargin": true,
            "type": "pie"
           }
          ],
          "scatter": [
           {
            "fillpattern": {
             "fillmode": "overlay",
             "size": 10,
             "solidity": 0.2
            },
            "type": "scatter"
           }
          ],
          "scatter3d": [
           {
            "line": {
             "colorbar": {
              "outlinewidth": 0,
              "ticks": ""
             }
            },
            "marker": {
             "colorbar": {
              "outlinewidth": 0,
              "ticks": ""
             }
            },
            "type": "scatter3d"
           }
          ],
          "scattercarpet": [
           {
            "marker": {
             "colorbar": {
              "outlinewidth": 0,
              "ticks": ""
             }
            },
            "type": "scattercarpet"
           }
          ],
          "scattergeo": [
           {
            "marker": {
             "colorbar": {
              "outlinewidth": 0,
              "ticks": ""
             }
            },
            "type": "scattergeo"
           }
          ],
          "scattergl": [
           {
            "marker": {
             "colorbar": {
              "outlinewidth": 0,
              "ticks": ""
             }
            },
            "type": "scattergl"
           }
          ],
          "scattermapbox": [
           {
            "marker": {
             "colorbar": {
              "outlinewidth": 0,
              "ticks": ""
             }
            },
            "type": "scattermapbox"
           }
          ],
          "scatterpolar": [
           {
            "marker": {
             "colorbar": {
              "outlinewidth": 0,
              "ticks": ""
             }
            },
            "type": "scatterpolar"
           }
          ],
          "scatterpolargl": [
           {
            "marker": {
             "colorbar": {
              "outlinewidth": 0,
              "ticks": ""
             }
            },
            "type": "scatterpolargl"
           }
          ],
          "scatterternary": [
           {
            "marker": {
             "colorbar": {
              "outlinewidth": 0,
              "ticks": ""
             }
            },
            "type": "scatterternary"
           }
          ],
          "surface": [
           {
            "colorbar": {
             "outlinewidth": 0,
             "ticks": ""
            },
            "colorscale": [
             [
              0,
              "#0d0887"
             ],
             [
              0.1111111111111111,
              "#46039f"
             ],
             [
              0.2222222222222222,
              "#7201a8"
             ],
             [
              0.3333333333333333,
              "#9c179e"
             ],
             [
              0.4444444444444444,
              "#bd3786"
             ],
             [
              0.5555555555555556,
              "#d8576b"
             ],
             [
              0.6666666666666666,
              "#ed7953"
             ],
             [
              0.7777777777777778,
              "#fb9f3a"
             ],
             [
              0.8888888888888888,
              "#fdca26"
             ],
             [
              1,
              "#f0f921"
             ]
            ],
            "type": "surface"
           }
          ],
          "table": [
           {
            "cells": {
             "fill": {
              "color": "#EBF0F8"
             },
             "line": {
              "color": "white"
             }
            },
            "header": {
             "fill": {
              "color": "#C8D4E3"
             },
             "line": {
              "color": "white"
             }
            },
            "type": "table"
           }
          ]
         },
         "layout": {
          "annotationdefaults": {
           "arrowcolor": "#2a3f5f",
           "arrowhead": 0,
           "arrowwidth": 1
          },
          "autotypenumbers": "strict",
          "coloraxis": {
           "colorbar": {
            "outlinewidth": 0,
            "ticks": ""
           }
          },
          "colorscale": {
           "diverging": [
            [
             0,
             "#8e0152"
            ],
            [
             0.1,
             "#c51b7d"
            ],
            [
             0.2,
             "#de77ae"
            ],
            [
             0.3,
             "#f1b6da"
            ],
            [
             0.4,
             "#fde0ef"
            ],
            [
             0.5,
             "#f7f7f7"
            ],
            [
             0.6,
             "#e6f5d0"
            ],
            [
             0.7,
             "#b8e186"
            ],
            [
             0.8,
             "#7fbc41"
            ],
            [
             0.9,
             "#4d9221"
            ],
            [
             1,
             "#276419"
            ]
           ],
           "sequential": [
            [
             0,
             "#0d0887"
            ],
            [
             0.1111111111111111,
             "#46039f"
            ],
            [
             0.2222222222222222,
             "#7201a8"
            ],
            [
             0.3333333333333333,
             "#9c179e"
            ],
            [
             0.4444444444444444,
             "#bd3786"
            ],
            [
             0.5555555555555556,
             "#d8576b"
            ],
            [
             0.6666666666666666,
             "#ed7953"
            ],
            [
             0.7777777777777778,
             "#fb9f3a"
            ],
            [
             0.8888888888888888,
             "#fdca26"
            ],
            [
             1,
             "#f0f921"
            ]
           ],
           "sequentialminus": [
            [
             0,
             "#0d0887"
            ],
            [
             0.1111111111111111,
             "#46039f"
            ],
            [
             0.2222222222222222,
             "#7201a8"
            ],
            [
             0.3333333333333333,
             "#9c179e"
            ],
            [
             0.4444444444444444,
             "#bd3786"
            ],
            [
             0.5555555555555556,
             "#d8576b"
            ],
            [
             0.6666666666666666,
             "#ed7953"
            ],
            [
             0.7777777777777778,
             "#fb9f3a"
            ],
            [
             0.8888888888888888,
             "#fdca26"
            ],
            [
             1,
             "#f0f921"
            ]
           ]
          },
          "colorway": [
           "#636efa",
           "#EF553B",
           "#00cc96",
           "#ab63fa",
           "#FFA15A",
           "#19d3f3",
           "#FF6692",
           "#B6E880",
           "#FF97FF",
           "#FECB52"
          ],
          "font": {
           "color": "#2a3f5f"
          },
          "geo": {
           "bgcolor": "white",
           "lakecolor": "white",
           "landcolor": "#E5ECF6",
           "showlakes": true,
           "showland": true,
           "subunitcolor": "white"
          },
          "hoverlabel": {
           "align": "left"
          },
          "hovermode": "closest",
          "mapbox": {
           "style": "light"
          },
          "paper_bgcolor": "white",
          "plot_bgcolor": "#E5ECF6",
          "polar": {
           "angularaxis": {
            "gridcolor": "white",
            "linecolor": "white",
            "ticks": ""
           },
           "bgcolor": "#E5ECF6",
           "radialaxis": {
            "gridcolor": "white",
            "linecolor": "white",
            "ticks": ""
           }
          },
          "scene": {
           "xaxis": {
            "backgroundcolor": "#E5ECF6",
            "gridcolor": "white",
            "gridwidth": 2,
            "linecolor": "white",
            "showbackground": true,
            "ticks": "",
            "zerolinecolor": "white"
           },
           "yaxis": {
            "backgroundcolor": "#E5ECF6",
            "gridcolor": "white",
            "gridwidth": 2,
            "linecolor": "white",
            "showbackground": true,
            "ticks": "",
            "zerolinecolor": "white"
           },
           "zaxis": {
            "backgroundcolor": "#E5ECF6",
            "gridcolor": "white",
            "gridwidth": 2,
            "linecolor": "white",
            "showbackground": true,
            "ticks": "",
            "zerolinecolor": "white"
           }
          },
          "shapedefaults": {
           "line": {
            "color": "#2a3f5f"
           }
          },
          "ternary": {
           "aaxis": {
            "gridcolor": "white",
            "linecolor": "white",
            "ticks": ""
           },
           "baxis": {
            "gridcolor": "white",
            "linecolor": "white",
            "ticks": ""
           },
           "bgcolor": "#E5ECF6",
           "caxis": {
            "gridcolor": "white",
            "linecolor": "white",
            "ticks": ""
           }
          },
          "title": {
           "x": 0.05
          },
          "xaxis": {
           "automargin": true,
           "gridcolor": "white",
           "linecolor": "white",
           "ticks": "",
           "title": {
            "standoff": 15
           },
           "zerolinecolor": "white",
           "zerolinewidth": 2
          },
          "yaxis": {
           "automargin": true,
           "gridcolor": "white",
           "linecolor": "white",
           "ticks": "",
           "title": {
            "standoff": 15
           },
           "zerolinecolor": "white",
           "zerolinewidth": 2
          }
         }
        },
        "title": {
         "text": "Shooting"
        }
       }
      }
     },
     "metadata": {},
     "output_type": "display_data"
    }
   ],
   "source": [
    "fig = go.Figure()\n",
    "fig.add_trace(go.Scatter(x=records_df['Date time'], y=records_df['Shots Fired'], mode='lines+markers', name='Shots Fired', line=dict(color='#FF2A6D')))\n",
    "fig.add_trace(go.Scatter(x=records_df['Date time'], y=records_df['Shots Hit'], mode='lines+markers', name='Shots Hit', line=dict(color='#05D9E8')))\n",
    "fig.update_layout(title='Shooting', hovermode='x', plot_bgcolor='#01012B')"
   ]
  },
  {
   "cell_type": "code",
   "execution_count": 15,
   "metadata": {
    "metadata": {}
   },
   "outputs": [
    {
     "data": {
      "text/plain": [
       "Text(0, 0.5, '')"
      ]
     },
     "execution_count": 15,
     "metadata": {},
     "output_type": "execute_result"
    },
    {
     "data": {
      "image/png": "[encoded data removed]",
      "text/plain": [
       "<Figure size 432x288 with 1 Axes>"
      ]
     },
     "metadata": {
      "needs_background": "light"
     },
     "output_type": "display_data"
    }
   ],
   "source": [
    "sns.lineplot(data=records_df, x=records_df.index, y='Accuracy', color='blue')\n",
    "sns.despine(left=False, bottom=False)\n",
    "plt.title('Acuracy (%)')\n",
    "plt.ylabel('')"
   ]
  },
  {
   "cell_type": "code",
   "execution_count": 16,
   "metadata": {},
   "outputs": [
    {
     "data": {
      "application/vnd.plotly.v1+json": {
       "config": {
        "plotlyServerURL": "https://plot.ly"
       },
       "data": [
        {
         "line": {
          "color": "#FF2A6D"
         },
         "mode": "lines+markers",
         "name": "Accuracy",
         "type": "scatter",
         "x": [
          "23/02/2024 15:40",
          "23/02/2024 16:17",
          "23/02/2024 16:35",
          "23/02/2024 16:50",
          "23/02/2024 17:13",
          "23/02/2024 23:17",
          "24/02/2024 18:09",
          "24/02/2024 18:26",
          "24/02/2024 20:38",
          "25/02/2024 21:27",
          "25/02/2024 21:46",
          "27/02/2024 18:38",
          "27/02/2024 19:22",
          "28/02/2024 20:50",
          "28/02/2024 21:12",
          "29/02/2024 19:19",
          "29/02/2024 20:15",
          "29/02/2024 20:36",
          "01/03/2024 18:40",
          "01/03/2024 18:57",
          "01/03/2024 20:39",
          "02/03/2024 22:08",
          "03/03/2024 19:57",
          "03/03/2024 20:49",
          "04/03/2024 22:11",
          "05/03/2024 18:09",
          "05/03/2024 18:47",
          "05/03/2024 19:10",
          "05/03/2024 19:27",
          "06/03/2024 20:36",
          "06/03/2024 20:55",
          "07/03/2024 19:24",
          "07/03/2024 19:43",
          "07/03/2024 20:36",
          "19/03/2024 19:19",
          "19/09/2024 19:52",
          "20/03/2024 18:20",
          "20/03/2024 18:37",
          "20/03/2024 18:54",
          "22/03/2024 16:15",
          "22/03/2024 16:33",
          "25/03/2024 17:11",
          "25/03/2024 15:30",
          "27/03/2024 19:00",
          "27/03/2024 19:27",
          "28/3/2024 19:45:00",
          "16/05/2024 21:43"
         ],
         "y": [
          49.65,
          48.8,
          45.33,
          42.6,
          44.26,
          43.1,
          42.73,
          42.3,
          45.66,
          47.09,
          43.73,
          43.66,
          47.36,
          47.4,
          52.37,
          45.07,
          48.79,
          46.18,
          47.28,
          46.87,
          49.64,
          48.69,
          49.86,
          49.56,
          48.53,
          48.43,
          50.11,
          47.63,
          48.85,
          51.66,
          49.19,
          47.63,
          50.51,
          51.08,
          46.5,
          50.37,
          44.94,
          48.56,
          51.71,
          46.79,
          50.19,
          53.27,
          50.34,
          52.46,
          52.46,
          53.55,
          49.54
         ]
        }
       ],
       "layout": {
        "hovermode": "x",
        "plot_bgcolor": "#01012B",
        "template": {
         "data": {
          "bar": [
           {
            "error_x": {
             "color": "#2a3f5f"
            },
            "error_y": {
             "color": "#2a3f5f"
            },
            "marker": {
             "line": {
              "color": "#E5ECF6",
              "width": 0.5
             },
             "pattern": {
              "fillmode": "overlay",
              "size": 10,
              "solidity": 0.2
             }
            },
            "type": "bar"
           }
          ],
          "barpolar": [
           {
            "marker": {
             "line": {
              "color": "#E5ECF6",
              "width": 0.5
             },
             "pattern": {
              "fillmode": "overlay",
              "size": 10,
              "solidity": 0.2
             }
            },
            "type": "barpolar"
           }
          ],
          "carpet": [
           {
            "aaxis": {
             "endlinecolor": "#2a3f5f",
             "gridcolor": "white",
             "linecolor": "white",
             "minorgridcolor": "white",
             "startlinecolor": "#2a3f5f"
            },
            "baxis": {
             "endlinecolor": "#2a3f5f",
             "gridcolor": "white",
             "linecolor": "white",
             "minorgridcolor": "white",
             "startlinecolor": "#2a3f5f"
            },
            "type": "carpet"
           }
          ],
          "choropleth": [
           {
            "colorbar": {
             "outlinewidth": 0,
             "ticks": ""
            },
            "type": "choropleth"
           }
          ],
          "contour": [
           {
            "colorbar": {
             "outlinewidth": 0,
             "ticks": ""
            },
            "colorscale": [
             [
              0,
              "#0d0887"
             ],
             [
              0.1111111111111111,
              "#46039f"
             ],
             [
              0.2222222222222222,
              "#7201a8"
             ],
             [
              0.3333333333333333,
              "#9c179e"
             ],
             [
              0.4444444444444444,
              "#bd3786"
             ],
             [
              0.5555555555555556,
              "#d8576b"
             ],
             [
              0.6666666666666666,
              "#ed7953"
             ],
             [
              0.7777777777777778,
              "#fb9f3a"
             ],
             [
              0.8888888888888888,
              "#fdca26"
             ],
             [
              1,
              "#f0f921"
             ]
            ],
            "type": "contour"
           }
          ],
          "contourcarpet": [
           {
            "colorbar": {
             "outlinewidth": 0,
             "ticks": ""
            },
            "type": "contourcarpet"
           }
          ],
          "heatmap": [
           {
            "colorbar": {
             "outlinewidth": 0,
             "ticks": ""
            },
            "colorscale": [
             [
              0,
              "#0d0887"
             ],
             [
              0.1111111111111111,
              "#46039f"
             ],
             [
              0.2222222222222222,
              "#7201a8"
             ],
             [
              0.3333333333333333,
              "#9c179e"
             ],
             [
              0.4444444444444444,
              "#bd3786"
             ],
             [
              0.5555555555555556,
              "#d8576b"
             ],
             [
              0.6666666666666666,
              "#ed7953"
             ],
             [
              0.7777777777777778,
              "#fb9f3a"
             ],
             [
              0.8888888888888888,
              "#fdca26"
             ],
             [
              1,
              "#f0f921"
             ]
            ],
            "type": "heatmap"
           }
          ],
          "heatmapgl": [
           {
            "colorbar": {
             "outlinewidth": 0,
             "ticks": ""
            },
            "colorscale": [
             [
              0,
              "#0d0887"
             ],
             [
              0.1111111111111111,
              "#46039f"
             ],
             [
              0.2222222222222222,
              "#7201a8"
             ],
             [
              0.3333333333333333,
              "#9c179e"
             ],
             [
              0.4444444444444444,
              "#bd3786"
             ],
             [
              0.5555555555555556,
              "#d8576b"
             ],
             [
              0.6666666666666666,
              "#ed7953"
             ],
             [
              0.7777777777777778,
              "#fb9f3a"
             ],
             [
              0.8888888888888888,
              "#fdca26"
             ],
             [
              1,
              "#f0f921"
             ]
            ],
            "type": "heatmapgl"
           }
          ],
          "histogram": [
           {
            "marker": {
             "pattern": {
              "fillmode": "overlay",
              "size": 10,
              "solidity": 0.2
             }
            },
            "type": "histogram"
           }
          ],
          "histogram2d": [
           {
            "colorbar": {
             "outlinewidth": 0,
             "ticks": ""
            },
            "colorscale": [
             [
              0,
              "#0d0887"
             ],
             [
              0.1111111111111111,
              "#46039f"
             ],
             [
              0.2222222222222222,
              "#7201a8"
             ],
             [
              0.3333333333333333,
              "#9c179e"
             ],
             [
              0.4444444444444444,
              "#bd3786"
             ],
             [
              0.5555555555555556,
              "#d8576b"
             ],
             [
              0.6666666666666666,
              "#ed7953"
             ],
             [
              0.7777777777777778,
              "#fb9f3a"
             ],
             [
              0.8888888888888888,
              "#fdca26"
             ],
             [
              1,
              "#f0f921"
             ]
            ],
            "type": "histogram2d"
           }
          ],
          "histogram2dcontour": [
           {
            "colorbar": {
             "outlinewidth": 0,
             "ticks": ""
            },
            "colorscale": [
             [
              0,
              "#0d0887"
             ],
             [
              0.1111111111111111,
              "#46039f"
             ],
             [
              0.2222222222222222,
              "#7201a8"
             ],
             [
              0.3333333333333333,
              "#9c179e"
             ],
             [
              0.4444444444444444,
              "#bd3786"
             ],
             [
              0.5555555555555556,
              "#d8576b"
             ],
             [
              0.6666666666666666,
              "#ed7953"
             ],
             [
              0.7777777777777778,
              "#fb9f3a"
             ],
             [
              0.8888888888888888,
              "#fdca26"
             ],
             [
              1,
              "#f0f921"
             ]
            ],
            "type": "histogram2dcontour"
           }
          ],
          "mesh3d": [
           {
            "colorbar": {
             "outlinewidth": 0,
             "ticks": ""
            },
            "type": "mesh3d"
           }
          ],
          "parcoords": [
           {
            "line": {
             "colorbar": {
              "outlinewidth": 0,
              "ticks": ""
             }
            },
            "type": "parcoords"
           }
          ],
          "pie": [
           {
            "automargin": true,
            "type": "pie"
           }
          ],
          "scatter": [
           {
            "fillpattern": {
             "fillmode": "overlay",
             "size": 10,
             "solidity": 0.2
            },
            "type": "scatter"
           }
          ],
          "scatter3d": [
           {
            "line": {
             "colorbar": {
              "outlinewidth": 0,
              "ticks": ""
             }
            },
            "marker": {
             "colorbar": {
              "outlinewidth": 0,
              "ticks": ""
             }
            },
            "type": "scatter3d"
           }
          ],
          "scattercarpet": [
           {
            "marker": {
             "colorbar": {
              "outlinewidth": 0,
              "ticks": ""
             }
            },
            "type": "scattercarpet"
           }
          ],
          "scattergeo": [
           {
            "marker": {
             "colorbar": {
              "outlinewidth": 0,
              "ticks": ""
             }
            },
            "type": "scattergeo"
           }
          ],
          "scattergl": [
           {
            "marker": {
             "colorbar": {
              "outlinewidth": 0,
              "ticks": ""
             }
            },
            "type": "scattergl"
           }
          ],
          "scattermapbox": [
           {
            "marker": {
             "colorbar": {
              "outlinewidth": 0,
              "ticks": ""
             }
            },
            "type": "scattermapbox"
           }
          ],
          "scatterpolar": [
           {
            "marker": {
             "colorbar": {
              "outlinewidth": 0,
              "ticks": ""
             }
            },
            "type": "scatterpolar"
           }
          ],
          "scatterpolargl": [
           {
            "marker": {
             "colorbar": {
              "outlinewidth": 0,
              "ticks": ""
             }
            },
            "type": "scatterpolargl"
           }
          ],
          "scatterternary": [
           {
            "marker": {
             "colorbar": {
              "outlinewidth": 0,
              "ticks": ""
             }
            },
            "type": "scatterternary"
           }
          ],
          "surface": [
           {
            "colorbar": {
             "outlinewidth": 0,
             "ticks": ""
            },
            "colorscale": [
             [
              0,
              "#0d0887"
             ],
             [
              0.1111111111111111,
              "#46039f"
             ],
             [
              0.2222222222222222,
              "#7201a8"
             ],
             [
              0.3333333333333333,
              "#9c179e"
             ],
             [
              0.4444444444444444,
              "#bd3786"
             ],
             [
              0.5555555555555556,
              "#d8576b"
             ],
             [
              0.6666666666666666,
              "#ed7953"
             ],
             [
              0.7777777777777778,
              "#fb9f3a"
             ],
             [
              0.8888888888888888,
              "#fdca26"
             ],
             [
              1,
              "#f0f921"
             ]
            ],
            "type": "surface"
           }
          ],
          "table": [
           {
            "cells": {
             "fill": {
              "color": "#EBF0F8"
             },
             "line": {
              "color": "white"
             }
            },
            "header": {
             "fill": {
              "color": "#C8D4E3"
             },
             "line": {
              "color": "white"
             }
            },
            "type": "table"
           }
          ]
         },
         "layout": {
          "annotationdefaults": {
           "arrowcolor": "#2a3f5f",
           "arrowhead": 0,
           "arrowwidth": 1
          },
          "autotypenumbers": "strict",
          "coloraxis": {
           "colorbar": {
            "outlinewidth": 0,
            "ticks": ""
           }
          },
          "colorscale": {
           "diverging": [
            [
             0,
             "#8e0152"
            ],
            [
             0.1,
             "#c51b7d"
            ],
            [
             0.2,
             "#de77ae"
            ],
            [
             0.3,
             "#f1b6da"
            ],
            [
             0.4,
             "#fde0ef"
            ],
            [
             0.5,
             "#f7f7f7"
            ],
            [
             0.6,
             "#e6f5d0"
            ],
            [
             0.7,
             "#b8e186"
            ],
            [
             0.8,
             "#7fbc41"
            ],
            [
             0.9,
             "#4d9221"
            ],
            [
             1,
             "#276419"
            ]
           ],
           "sequential": [
            [
             0,
             "#0d0887"
            ],
            [
             0.1111111111111111,
             "#46039f"
            ],
            [
             0.2222222222222222,
             "#7201a8"
            ],
            [
             0.3333333333333333,
             "#9c179e"
            ],
            [
             0.4444444444444444,
             "#bd3786"
            ],
            [
             0.5555555555555556,
             "#d8576b"
            ],
            [
             0.6666666666666666,
             "#ed7953"
            ],
            [
             0.7777777777777778,
             "#fb9f3a"
            ],
            [
             0.8888888888888888,
             "#fdca26"
            ],
            [
             1,
             "#f0f921"
            ]
           ],
           "sequentialminus": [
            [
             0,
             "#0d0887"
            ],
            [
             0.1111111111111111,
             "#46039f"
            ],
            [
             0.2222222222222222,
             "#7201a8"
            ],
            [
             0.3333333333333333,
             "#9c179e"
            ],
            [
             0.4444444444444444,
             "#bd3786"
            ],
            [
             0.5555555555555556,
             "#d8576b"
            ],
            [
             0.6666666666666666,
             "#ed7953"
            ],
            [
             0.7777777777777778,
             "#fb9f3a"
            ],
            [
             0.8888888888888888,
             "#fdca26"
            ],
            [
             1,
             "#f0f921"
            ]
           ]
          },
          "colorway": [
           "#636efa",
           "#EF553B",
           "#00cc96",
           "#ab63fa",
           "#FFA15A",
           "#19d3f3",
           "#FF6692",
           "#B6E880",
           "#FF97FF",
           "#FECB52"
          ],
          "font": {
           "color": "#2a3f5f"
          },
          "geo": {
           "bgcolor": "white",
           "lakecolor": "white",
           "landcolor": "#E5ECF6",
           "showlakes": true,
           "showland": true,
           "subunitcolor": "white"
          },
          "hoverlabel": {
           "align": "left"
          },
          "hovermode": "closest",
          "mapbox": {
           "style": "light"
          },
          "paper_bgcolor": "white",
          "plot_bgcolor": "#E5ECF6",
          "polar": {
           "angularaxis": {
            "gridcolor": "white",
            "linecolor": "white",
            "ticks": ""
           },
           "bgcolor": "#E5ECF6",
           "radialaxis": {
            "gridcolor": "white",
            "linecolor": "white",
            "ticks": ""
           }
          },
          "scene": {
           "xaxis": {
            "backgroundcolor": "#E5ECF6",
            "gridcolor": "white",
            "gridwidth": 2,
            "linecolor": "white",
            "showbackground": true,
            "ticks": "",
            "zerolinecolor": "white"
           },
           "yaxis": {
            "backgroundcolor": "#E5ECF6",
            "gridcolor": "white",
            "gridwidth": 2,
            "linecolor": "white",
            "showbackground": true,
            "ticks": "",
            "zerolinecolor": "white"
           },
           "zaxis": {
            "backgroundcolor": "#E5ECF6",
            "gridcolor": "white",
            "gridwidth": 2,
            "linecolor": "white",
            "showbackground": true,
            "ticks": "",
            "zerolinecolor": "white"
           }
          },
          "shapedefaults": {
           "line": {
            "color": "#2a3f5f"
           }
          },
          "ternary": {
           "aaxis": {
            "gridcolor": "white",
            "linecolor": "white",
            "ticks": ""
           },
           "baxis": {
            "gridcolor": "white",
            "linecolor": "white",
            "ticks": ""
           },
           "bgcolor": "#E5ECF6",
           "caxis": {
            "gridcolor": "white",
            "linecolor": "white",
            "ticks": ""
           }
          },
          "title": {
           "x": 0.05
          },
          "xaxis": {
           "automargin": true,
           "gridcolor": "white",
           "linecolor": "white",
           "ticks": "",
           "title": {
            "standoff": 15
           },
           "zerolinecolor": "white",
           "zerolinewidth": 2
          },
          "yaxis": {
           "automargin": true,
           "gridcolor": "white",
           "linecolor": "white",
           "ticks": "",
           "title": {
            "standoff": 15
           },
           "zerolinecolor": "white",
           "zerolinewidth": 2
          }
         }
        },
        "title": {
         "text": "Accuracy (%)"
        }
       }
      }
     },
     "metadata": {},
     "output_type": "display_data"
    }
   ],
   "source": [
    "fig = go.Figure()\n",
    "fig.add_trace(go.Scatter(x=records_df['Date time'], y=records_df['Accuracy'], mode='lines+markers', name='Accuracy', line=dict(color='#FF2A6D')))\n",
    "fig.update_layout(title='Accuracy (%)', hovermode='x', plot_bgcolor='#01012B')"
   ]
  },
  {
   "cell_type": "code",
   "execution_count": 17,
   "metadata": {
    "metadata": {}
   },
   "outputs": [
    {
     "data": {
      "text/plain": [
       "<matplotlib.legend.Legend at 0x21e3a5ba520>"
      ]
     },
     "execution_count": 17,
     "metadata": {},
     "output_type": "execute_result"
    },
    {
     "data": {
      "image/png": "[encoded data removed]",
      "text/plain": [
       "<Figure size 432x288 with 1 Axes>"
      ]
     },
     "metadata": {
      "needs_background": "light"
     },
     "output_type": "display_data"
    }
   ],
   "source": [
    "sns.lineplot(data=records_df, x=records_df.index, y='Damage Dealt', color='blue')\n",
    "sns.lineplot(data=records_df, x=records_df.index, y='Damage Taken', color='red')\n",
    "sns.despine(left=False, bottom=False)\n",
    "plt.title('Damage Dealt and Taken')\n",
    "plt.ylabel('')\n",
    "plt.legend(['Damage Dealt', 'Damage Taken'])"
   ]
  },
  {
   "cell_type": "code",
   "execution_count": 18,
   "metadata": {
    "metadata": {}
   },
   "outputs": [
    {
     "data": {
      "application/vnd.plotly.v1+json": {
       "config": {
        "plotlyServerURL": "https://plot.ly"
       },
       "data": [
        {
         "line": {
          "color": "#FF2A6D"
         },
         "mode": "lines+markers",
         "name": "Damage Dealt",
         "type": "scatter",
         "x": [
          "23/02/2024 15:40",
          "23/02/2024 16:17",
          "23/02/2024 16:35",
          "23/02/2024 16:50",
          "23/02/2024 17:13",
          "23/02/2024 23:17",
          "24/02/2024 18:09",
          "24/02/2024 18:26",
          "24/02/2024 20:38",
          "25/02/2024 21:27",
          "25/02/2024 21:46",
          "27/02/2024 18:38",
          "27/02/2024 19:22",
          "28/02/2024 20:50",
          "28/02/2024 21:12",
          "29/02/2024 19:19",
          "29/02/2024 20:15",
          "29/02/2024 20:36",
          "01/03/2024 18:40",
          "01/03/2024 18:57",
          "01/03/2024 20:39",
          "02/03/2024 22:08",
          "03/03/2024 19:57",
          "03/03/2024 20:49",
          "04/03/2024 22:11",
          "05/03/2024 18:09",
          "05/03/2024 18:47",
          "05/03/2024 19:10",
          "05/03/2024 19:27",
          "06/03/2024 20:36",
          "06/03/2024 20:55",
          "07/03/2024 19:24",
          "07/03/2024 19:43",
          "07/03/2024 20:36",
          "19/03/2024 19:19",
          "19/09/2024 19:52",
          "20/03/2024 18:20",
          "20/03/2024 18:37",
          "20/03/2024 18:54",
          "22/03/2024 16:15",
          "22/03/2024 16:33",
          "25/03/2024 17:11",
          "25/03/2024 15:30",
          "27/03/2024 19:00",
          "27/03/2024 19:27",
          "28/3/2024 19:45:00",
          "16/05/2024 21:43"
         ],
         "y": [
          9206,
          8463,
          7646,
          7566,
          8615,
          15396,
          13331,
          15292,
          16861,
          15099,
          13638,
          14933,
          15005,
          15601,
          16470,
          13421,
          15730,
          13120,
          14930,
          14851,
          16191,
          14304,
          14607,
          14284,
          14493,
          15097,
          18632,
          16368,
          14883,
          17832,
          17053,
          14826,
          15946,
          18580,
          17098,
          16758,
          15850,
          16925,
          19022,
          15887,
          17421,
          18207,
          16375,
          17488,
          17487,
          17803,
          18141
         ]
        },
        {
         "line": {
          "color": "#05D9E8"
         },
         "mode": "lines+markers",
         "name": "Damage Taken",
         "type": "scatter",
         "x": [
          "23/02/2024 15:40",
          "23/02/2024 16:17",
          "23/02/2024 16:35",
          "23/02/2024 16:50",
          "23/02/2024 17:13",
          "23/02/2024 23:17",
          "24/02/2024 18:09",
          "24/02/2024 18:26",
          "24/02/2024 20:38",
          "25/02/2024 21:27",
          "25/02/2024 21:46",
          "27/02/2024 18:38",
          "27/02/2024 19:22",
          "28/02/2024 20:50",
          "28/02/2024 21:12",
          "29/02/2024 19:19",
          "29/02/2024 20:15",
          "29/02/2024 20:36",
          "01/03/2024 18:40",
          "01/03/2024 18:57",
          "01/03/2024 20:39",
          "02/03/2024 22:08",
          "03/03/2024 19:57",
          "03/03/2024 20:49",
          "04/03/2024 22:11",
          "05/03/2024 18:09",
          "05/03/2024 18:47",
          "05/03/2024 19:10",
          "05/03/2024 19:27",
          "06/03/2024 20:36",
          "06/03/2024 20:55",
          "07/03/2024 19:24",
          "07/03/2024 19:43",
          "07/03/2024 20:36",
          "19/03/2024 19:19",
          "19/09/2024 19:52",
          "20/03/2024 18:20",
          "20/03/2024 18:37",
          "20/03/2024 18:54",
          "22/03/2024 16:15",
          "22/03/2024 16:33",
          "25/03/2024 17:11",
          "25/03/2024 15:30",
          "27/03/2024 19:00",
          "27/03/2024 19:27",
          "28/3/2024 19:45:00",
          "16/05/2024 21:43"
         ],
         "y": [
          5252,
          4917,
          5493,
          5231,
          5941,
          8348,
          9140,
          8232,
          7697,
          7842,
          7961,
          6786,
          6825,
          7274,
          6792,
          6851,
          7017,
          6929,
          6992,
          5609,
          6459,
          6485,
          6885,
          7301,
          7262,
          7383,
          7553,
          9629,
          7746,
          8432,
          8205,
          7631,
          7857,
          7308,
          7468,
          8247,
          9670,
          8147,
          7818,
          9479,
          8265,
          6437,
          7829,
          7588,
          7588,
          8347,
          8257
         ]
        }
       ],
       "layout": {
        "hovermode": "x",
        "plot_bgcolor": "#01012B",
        "template": {
         "data": {
          "bar": [
           {
            "error_x": {
             "color": "#2a3f5f"
            },
            "error_y": {
             "color": "#2a3f5f"
            },
            "marker": {
             "line": {
              "color": "#E5ECF6",
              "width": 0.5
             },
             "pattern": {
              "fillmode": "overlay",
              "size": 10,
              "solidity": 0.2
             }
            },
            "type": "bar"
           }
          ],
          "barpolar": [
           {
            "marker": {
             "line": {
              "color": "#E5ECF6",
              "width": 0.5
             },
             "pattern": {
              "fillmode": "overlay",
              "size": 10,
              "solidity": 0.2
             }
            },
            "type": "barpolar"
           }
          ],
          "carpet": [
           {
            "aaxis": {
             "endlinecolor": "#2a3f5f",
             "gridcolor": "white",
             "linecolor": "white",
             "minorgridcolor": "white",
             "startlinecolor": "#2a3f5f"
            },
            "baxis": {
             "endlinecolor": "#2a3f5f",
             "gridcolor": "white",
             "linecolor": "white",
             "minorgridcolor": "white",
             "startlinecolor": "#2a3f5f"
            },
            "type": "carpet"
           }
          ],
          "choropleth": [
           {
            "colorbar": {
             "outlinewidth": 0,
             "ticks": ""
            },
            "type": "choropleth"
           }
          ],
          "contour": [
           {
            "colorbar": {
             "outlinewidth": 0,
             "ticks": ""
            },
            "colorscale": [
             [
              0,
              "#0d0887"
             ],
             [
              0.1111111111111111,
              "#46039f"
             ],
             [
              0.2222222222222222,
              "#7201a8"
             ],
             [
              0.3333333333333333,
              "#9c179e"
             ],
             [
              0.4444444444444444,
              "#bd3786"
             ],
             [
              0.5555555555555556,
              "#d8576b"
             ],
             [
              0.6666666666666666,
              "#ed7953"
             ],
             [
              0.7777777777777778,
              "#fb9f3a"
             ],
             [
              0.8888888888888888,
              "#fdca26"
             ],
             [
              1,
              "#f0f921"
             ]
            ],
            "type": "contour"
           }
          ],
          "contourcarpet": [
           {
            "colorbar": {
             "outlinewidth": 0,
             "ticks": ""
            },
            "type": "contourcarpet"
           }
          ],
          "heatmap": [
           {
            "colorbar": {
             "outlinewidth": 0,
             "ticks": ""
            },
            "colorscale": [
             [
              0,
              "#0d0887"
             ],
             [
              0.1111111111111111,
              "#46039f"
             ],
             [
              0.2222222222222222,
              "#7201a8"
             ],
             [
              0.3333333333333333,
              "#9c179e"
             ],
             [
              0.4444444444444444,
              "#bd3786"
             ],
             [
              0.5555555555555556,
              "#d8576b"
             ],
             [
              0.6666666666666666,
              "#ed7953"
             ],
             [
              0.7777777777777778,
              "#fb9f3a"
             ],
             [
              0.8888888888888888,
              "#fdca26"
             ],
             [
              1,
              "#f0f921"
             ]
            ],
            "type": "heatmap"
           }
          ],
          "heatmapgl": [
           {
            "colorbar": {
             "outlinewidth": 0,
             "ticks": ""
            },
            "colorscale": [
             [
              0,
              "#0d0887"
             ],
             [
              0.1111111111111111,
              "#46039f"
             ],
             [
              0.2222222222222222,
              "#7201a8"
             ],
             [
              0.3333333333333333,
              "#9c179e"
             ],
             [
              0.4444444444444444,
              "#bd3786"
             ],
             [
              0.5555555555555556,
              "#d8576b"
             ],
             [
              0.6666666666666666,
              "#ed7953"
             ],
             [
              0.7777777777777778,
              "#fb9f3a"
             ],
             [
              0.8888888888888888,
              "#fdca26"
             ],
             [
              1,
              "#f0f921"
             ]
            ],
            "type": "heatmapgl"
           }
          ],
          "histogram": [
           {
            "marker": {
             "pattern": {
              "fillmode": "overlay",
              "size": 10,
              "solidity": 0.2
             }
            },
            "type": "histogram"
           }
          ],
          "histogram2d": [
           {
            "colorbar": {
             "outlinewidth": 0,
             "ticks": ""
            },
            "colorscale": [
             [
              0,
              "#0d0887"
             ],
             [
              0.1111111111111111,
              "#46039f"
             ],
             [
              0.2222222222222222,
              "#7201a8"
             ],
             [
              0.3333333333333333,
              "#9c179e"
             ],
             [
              0.4444444444444444,
              "#bd3786"
             ],
             [
              0.5555555555555556,
              "#d8576b"
             ],
             [
              0.6666666666666666,
              "#ed7953"
             ],
             [
              0.7777777777777778,
              "#fb9f3a"
             ],
             [
              0.8888888888888888,
              "#fdca26"
             ],
             [
              1,
              "#f0f921"
             ]
            ],
            "type": "histogram2d"
           }
          ],
          "histogram2dcontour": [
           {
            "colorbar": {
             "outlinewidth": 0,
             "ticks": ""
            },
            "colorscale": [
             [
              0,
              "#0d0887"
             ],
             [
              0.1111111111111111,
              "#46039f"
             ],
             [
              0.2222222222222222,
              "#7201a8"
             ],
             [
              0.3333333333333333,
              "#9c179e"
             ],
             [
              0.4444444444444444,
              "#bd3786"
             ],
             [
              0.5555555555555556,
              "#d8576b"
             ],
             [
              0.6666666666666666,
              "#ed7953"
             ],
             [
              0.7777777777777778,
              "#fb9f3a"
             ],
             [
              0.8888888888888888,
              "#fdca26"
             ],
             [
              1,
              "#f0f921"
             ]
            ],
            "type": "histogram2dcontour"
           }
          ],
          "mesh3d": [
           {
            "colorbar": {
             "outlinewidth": 0,
             "ticks": ""
            },
            "type": "mesh3d"
           }
          ],
          "parcoords": [
           {
            "line": {
             "colorbar": {
              "outlinewidth": 0,
              "ticks": ""
             }
            },
            "type": "parcoords"
           }
          ],
          "pie": [
           {
            "automargin": true,
            "type": "pie"
           }
          ],
          "scatter": [
           {
            "fillpattern": {
             "fillmode": "overlay",
             "size": 10,
             "solidity": 0.2
            },
            "type": "scatter"
           }
          ],
          "scatter3d": [
           {
            "line": {
             "colorbar": {
              "outlinewidth": 0,
              "ticks": ""
             }
            },
            "marker": {
             "colorbar": {
              "outlinewidth": 0,
              "ticks": ""
             }
            },
            "type": "scatter3d"
           }
          ],
          "scattercarpet": [
           {
            "marker": {
             "colorbar": {
              "outlinewidth": 0,
              "ticks": ""
             }
            },
            "type": "scattercarpet"
           }
          ],
          "scattergeo": [
           {
            "marker": {
             "colorbar": {
              "outlinewidth": 0,
              "ticks": ""
             }
            },
            "type": "scattergeo"
           }
          ],
          "scattergl": [
           {
            "marker": {
             "colorbar": {
              "outlinewidth": 0,
              "ticks": ""
             }
            },
            "type": "scattergl"
           }
          ],
          "scattermapbox": [
           {
            "marker": {
             "colorbar": {
              "outlinewidth": 0,
              "ticks": ""
             }
            },
            "type": "scattermapbox"
           }
          ],
          "scatterpolar": [
           {
            "marker": {
             "colorbar": {
              "outlinewidth": 0,
              "ticks": ""
             }
            },
            "type": "scatterpolar"
           }
          ],
          "scatterpolargl": [
           {
            "marker": {
             "colorbar": {
              "outlinewidth": 0,
              "ticks": ""
             }
            },
            "type": "scatterpolargl"
           }
          ],
          "scatterternary": [
           {
            "marker": {
             "colorbar": {
              "outlinewidth": 0,
              "ticks": ""
             }
            },
            "type": "scatterternary"
           }
          ],
          "surface": [
           {
            "colorbar": {
             "outlinewidth": 0,
             "ticks": ""
            },
            "colorscale": [
             [
              0,
              "#0d0887"
             ],
             [
              0.1111111111111111,
              "#46039f"
             ],
             [
              0.2222222222222222,
              "#7201a8"
             ],
             [
              0.3333333333333333,
              "#9c179e"
             ],
             [
              0.4444444444444444,
              "#bd3786"
             ],
             [
              0.5555555555555556,
              "#d8576b"
             ],
             [
              0.6666666666666666,
              "#ed7953"
             ],
             [
              0.7777777777777778,
              "#fb9f3a"
             ],
             [
              0.8888888888888888,
              "#fdca26"
             ],
             [
              1,
              "#f0f921"
             ]
            ],
            "type": "surface"
           }
          ],
          "table": [
           {
            "cells": {
             "fill": {
              "color": "#EBF0F8"
             },
             "line": {
              "color": "white"
             }
            },
            "header": {
             "fill": {
              "color": "#C8D4E3"
             },
             "line": {
              "color": "white"
             }
            },
            "type": "table"
           }
          ]
         },
         "layout": {
          "annotationdefaults": {
           "arrowcolor": "#2a3f5f",
           "arrowhead": 0,
           "arrowwidth": 1
          },
          "autotypenumbers": "strict",
          "coloraxis": {
           "colorbar": {
            "outlinewidth": 0,
            "ticks": ""
           }
          },
          "colorscale": {
           "diverging": [
            [
             0,
             "#8e0152"
            ],
            [
             0.1,
             "#c51b7d"
            ],
            [
             0.2,
             "#de77ae"
            ],
            [
             0.3,
             "#f1b6da"
            ],
            [
             0.4,
             "#fde0ef"
            ],
            [
             0.5,
             "#f7f7f7"
            ],
            [
             0.6,
             "#e6f5d0"
            ],
            [
             0.7,
             "#b8e186"
            ],
            [
             0.8,
             "#7fbc41"
            ],
            [
             0.9,
             "#4d9221"
            ],
            [
             1,
             "#276419"
            ]
           ],
           "sequential": [
            [
             0,
             "#0d0887"
            ],
            [
             0.1111111111111111,
             "#46039f"
            ],
            [
             0.2222222222222222,
             "#7201a8"
            ],
            [
             0.3333333333333333,
             "#9c179e"
            ],
            [
             0.4444444444444444,
             "#bd3786"
            ],
            [
             0.5555555555555556,
             "#d8576b"
            ],
            [
             0.6666666666666666,
             "#ed7953"
            ],
            [
             0.7777777777777778,
             "#fb9f3a"
            ],
            [
             0.8888888888888888,
             "#fdca26"
            ],
            [
             1,
             "#f0f921"
            ]
           ],
           "sequentialminus": [
            [
             0,
             "#0d0887"
            ],
            [
             0.1111111111111111,
             "#46039f"
            ],
            [
             0.2222222222222222,
             "#7201a8"
            ],
            [
             0.3333333333333333,
             "#9c179e"
            ],
            [
             0.4444444444444444,
             "#bd3786"
            ],
            [
             0.5555555555555556,
             "#d8576b"
            ],
            [
             0.6666666666666666,
             "#ed7953"
            ],
            [
             0.7777777777777778,
             "#fb9f3a"
            ],
            [
             0.8888888888888888,
             "#fdca26"
            ],
            [
             1,
             "#f0f921"
            ]
           ]
          },
          "colorway": [
           "#636efa",
           "#EF553B",
           "#00cc96",
           "#ab63fa",
           "#FFA15A",
           "#19d3f3",
           "#FF6692",
           "#B6E880",
           "#FF97FF",
           "#FECB52"
          ],
          "font": {
           "color": "#2a3f5f"
          },
          "geo": {
           "bgcolor": "white",
           "lakecolor": "white",
           "landcolor": "#E5ECF6",
           "showlakes": true,
           "showland": true,
           "subunitcolor": "white"
          },
          "hoverlabel": {
           "align": "left"
          },
          "hovermode": "closest",
          "mapbox": {
           "style": "light"
          },
          "paper_bgcolor": "white",
          "plot_bgcolor": "#E5ECF6",
          "polar": {
           "angularaxis": {
            "gridcolor": "white",
            "linecolor": "white",
            "ticks": ""
           },
           "bgcolor": "#E5ECF6",
           "radialaxis": {
            "gridcolor": "white",
            "linecolor": "white",
            "ticks": ""
           }
          },
          "scene": {
           "xaxis": {
            "backgroundcolor": "#E5ECF6",
            "gridcolor": "white",
            "gridwidth": 2,
            "linecolor": "white",
            "showbackground": true,
            "ticks": "",
            "zerolinecolor": "white"
           },
           "yaxis": {
            "backgroundcolor": "#E5ECF6",
            "gridcolor": "white",
            "gridwidth": 2,
            "linecolor": "white",
            "showbackground": true,
            "ticks": "",
            "zerolinecolor": "white"
           },
           "zaxis": {
            "backgroundcolor": "#E5ECF6",
            "gridcolor": "white",
            "gridwidth": 2,
            "linecolor": "white",
            "showbackground": true,
            "ticks": "",
            "zerolinecolor": "white"
           }
          },
          "shapedefaults": {
           "line": {
            "color": "#2a3f5f"
           }
          },
          "ternary": {
           "aaxis": {
            "gridcolor": "white",
            "linecolor": "white",
            "ticks": ""
           },
           "baxis": {
            "gridcolor": "white",
            "linecolor": "white",
            "ticks": ""
           },
           "bgcolor": "#E5ECF6",
           "caxis": {
            "gridcolor": "white",
            "linecolor": "white",
            "ticks": ""
           }
          },
          "title": {
           "x": 0.05
          },
          "xaxis": {
           "automargin": true,
           "gridcolor": "white",
           "linecolor": "white",
           "ticks": "",
           "title": {
            "standoff": 15
           },
           "zerolinecolor": "white",
           "zerolinewidth": 2
          },
          "yaxis": {
           "automargin": true,
           "gridcolor": "white",
           "linecolor": "white",
           "ticks": "",
           "title": {
            "standoff": 15
           },
           "zerolinecolor": "white",
           "zerolinewidth": 2
          }
         }
        },
        "title": {
         "text": "Damage"
        }
       }
      }
     },
     "metadata": {},
     "output_type": "display_data"
    }
   ],
   "source": [
    "fig = go.Figure()\n",
    "fig.add_trace(go.Scatter(x=records_df['Date time'], y=records_df['Damage Dealt'], mode='lines+markers', name='Damage Dealt', line=dict(color='#FF2A6D')))\n",
    "fig.add_trace(go.Scatter(x=records_df['Date time'], y=records_df['Damage Taken'], mode='lines+markers', name='Damage Taken', line=dict(color='#05D9E8')))\n",
    "fig.update_layout(title='Damage', hovermode='x', plot_bgcolor='#01012B')"
   ]
  },
  {
   "cell_type": "code",
   "execution_count": 19,
   "metadata": {
    "metadata": {}
   },
   "outputs": [
    {
     "data": {
      "text/plain": [
       "Text(0, 0.5, '')"
      ]
     },
     "execution_count": 19,
     "metadata": {},
     "output_type": "execute_result"
    },
    {
     "data": {
      "image/png": "[encoded data removed]",
      "text/plain": [
       "<Figure size 432x288 with 1 Axes>"
      ]
     },
     "metadata": {
      "needs_background": "light"
     },
     "output_type": "display_data"
    }
   ],
   "source": [
    "sns.lineplot(data=records_df, x=records_df.index, y='K/D Ratio', color='blue')\n",
    "sns.despine(left=False, bottom=False)\n",
    "plt.title('K/D Ratio')\n",
    "plt.ylabel('')"
   ]
  },
  {
   "cell_type": "code",
   "execution_count": 20,
   "metadata": {},
   "outputs": [
    {
     "data": {
      "application/vnd.plotly.v1+json": {
       "config": {
        "plotlyServerURL": "https://plot.ly"
       },
       "data": [
        {
         "line": {
          "color": "#FF2A6D"
         },
         "mode": "lines+markers",
         "name": "K/D Ratio",
         "type": "scatter",
         "x": [
          "23/02/2024 15:40",
          "23/02/2024 16:17",
          "23/02/2024 16:35",
          "23/02/2024 16:50",
          "23/02/2024 17:13",
          "23/02/2024 23:17",
          "24/02/2024 18:09",
          "24/02/2024 18:26",
          "24/02/2024 20:38",
          "25/02/2024 21:27",
          "25/02/2024 21:46",
          "27/02/2024 18:38",
          "27/02/2024 19:22",
          "28/02/2024 20:50",
          "28/02/2024 21:12",
          "29/02/2024 19:19",
          "29/02/2024 20:15",
          "29/02/2024 20:36",
          "01/03/2024 18:40",
          "01/03/2024 18:57",
          "01/03/2024 20:39",
          "02/03/2024 22:08",
          "03/03/2024 19:57",
          "03/03/2024 20:49",
          "04/03/2024 22:11",
          "05/03/2024 18:09",
          "05/03/2024 18:47",
          "05/03/2024 19:10",
          "05/03/2024 19:27",
          "06/03/2024 20:36",
          "06/03/2024 20:55",
          "07/03/2024 19:24",
          "07/03/2024 19:43",
          "07/03/2024 20:36",
          "19/03/2024 19:19",
          "19/09/2024 19:52",
          "20/03/2024 18:20",
          "20/03/2024 18:37",
          "20/03/2024 18:54",
          "22/03/2024 16:15",
          "22/03/2024 16:33",
          "25/03/2024 17:11",
          "25/03/2024 15:30",
          "27/03/2024 19:00",
          "27/03/2024 19:27",
          "28/3/2024 19:45:00",
          "16/05/2024 21:43"
         ],
         "y": [
          2.6,
          2.1,
          1.6,
          1.7,
          2,
          3.3,
          2.4,
          3.9,
          5.5,
          4.1,
          2.8,
          5,
          7.8,
          4.9,
          7.9,
          3.9,
          4.4,
          5.1,
          5.8,
          7.3,
          6.8,
          6.7,
          5.3,
          4.2,
          4.1,
          5.2,
          5.4,
          3.1,
          5.7,
          4.1,
          4.2,
          3.6,
          4.2,
          8.8,
          6,
          3.7,
          3.4,
          4.9,
          6.4,
          2.9,
          5.2,
          5.9,
          4.3,
          5.4,
          5.3,
          4.4,
          6.3
         ]
        }
       ],
       "layout": {
        "hovermode": "x",
        "plot_bgcolor": "#01012B",
        "template": {
         "data": {
          "bar": [
           {
            "error_x": {
             "color": "#2a3f5f"
            },
            "error_y": {
             "color": "#2a3f5f"
            },
            "marker": {
             "line": {
              "color": "#E5ECF6",
              "width": 0.5
             },
             "pattern": {
              "fillmode": "overlay",
              "size": 10,
              "solidity": 0.2
             }
            },
            "type": "bar"
           }
          ],
          "barpolar": [
           {
            "marker": {
             "line": {
              "color": "#E5ECF6",
              "width": 0.5
             },
             "pattern": {
              "fillmode": "overlay",
              "size": 10,
              "solidity": 0.2
             }
            },
            "type": "barpolar"
           }
          ],
          "carpet": [
           {
            "aaxis": {
             "endlinecolor": "#2a3f5f",
             "gridcolor": "white",
             "linecolor": "white",
             "minorgridcolor": "white",
             "startlinecolor": "#2a3f5f"
            },
            "baxis": {
             "endlinecolor": "#2a3f5f",
             "gridcolor": "white",
             "linecolor": "white",
             "minorgridcolor": "white",
             "startlinecolor": "#2a3f5f"
            },
            "type": "carpet"
           }
          ],
          "choropleth": [
           {
            "colorbar": {
             "outlinewidth": 0,
             "ticks": ""
            },
            "type": "choropleth"
           }
          ],
          "contour": [
           {
            "colorbar": {
             "outlinewidth": 0,
             "ticks": ""
            },
            "colorscale": [
             [
              0,
              "#0d0887"
             ],
             [
              0.1111111111111111,
              "#46039f"
             ],
             [
              0.2222222222222222,
              "#7201a8"
             ],
             [
              0.3333333333333333,
              "#9c179e"
             ],
             [
              0.4444444444444444,
              "#bd3786"
             ],
             [
              0.5555555555555556,
              "#d8576b"
             ],
             [
              0.6666666666666666,
              "#ed7953"
             ],
             [
              0.7777777777777778,
              "#fb9f3a"
             ],
             [
              0.8888888888888888,
              "#fdca26"
             ],
             [
              1,
              "#f0f921"
             ]
            ],
            "type": "contour"
           }
          ],
          "contourcarpet": [
           {
            "colorbar": {
             "outlinewidth": 0,
             "ticks": ""
            },
            "type": "contourcarpet"
           }
          ],
          "heatmap": [
           {
            "colorbar": {
             "outlinewidth": 0,
             "ticks": ""
            },
            "colorscale": [
             [
              0,
              "#0d0887"
             ],
             [
              0.1111111111111111,
              "#46039f"
             ],
             [
              0.2222222222222222,
              "#7201a8"
             ],
             [
              0.3333333333333333,
              "#9c179e"
             ],
             [
              0.4444444444444444,
              "#bd3786"
             ],
             [
              0.5555555555555556,
              "#d8576b"
             ],
             [
              0.6666666666666666,
              "#ed7953"
             ],
             [
              0.7777777777777778,
              "#fb9f3a"
             ],
             [
              0.8888888888888888,
              "#fdca26"
             ],
             [
              1,
              "#f0f921"
             ]
            ],
            "type": "heatmap"
           }
          ],
          "heatmapgl": [
           {
            "colorbar": {
             "outlinewidth": 0,
             "ticks": ""
            },
            "colorscale": [
             [
              0,
              "#0d0887"
             ],
             [
              0.1111111111111111,
              "#46039f"
             ],
             [
              0.2222222222222222,
              "#7201a8"
             ],
             [
              0.3333333333333333,
              "#9c179e"
             ],
             [
              0.4444444444444444,
              "#bd3786"
             ],
             [
              0.5555555555555556,
              "#d8576b"
             ],
             [
              0.6666666666666666,
              "#ed7953"
             ],
             [
              0.7777777777777778,
              "#fb9f3a"
             ],
             [
              0.8888888888888888,
              "#fdca26"
             ],
             [
              1,
              "#f0f921"
             ]
            ],
            "type": "heatmapgl"
           }
          ],
          "histogram": [
           {
            "marker": {
             "pattern": {
              "fillmode": "overlay",
              "size": 10,
              "solidity": 0.2
             }
            },
            "type": "histogram"
           }
          ],
          "histogram2d": [
           {
            "colorbar": {
             "outlinewidth": 0,
             "ticks": ""
            },
            "colorscale": [
             [
              0,
              "#0d0887"
             ],
             [
              0.1111111111111111,
              "#46039f"
             ],
             [
              0.2222222222222222,
              "#7201a8"
             ],
             [
              0.3333333333333333,
              "#9c179e"
             ],
             [
              0.4444444444444444,
              "#bd3786"
             ],
             [
              0.5555555555555556,
              "#d8576b"
             ],
             [
              0.6666666666666666,
              "#ed7953"
             ],
             [
              0.7777777777777778,
              "#fb9f3a"
             ],
             [
              0.8888888888888888,
              "#fdca26"
             ],
             [
              1,
              "#f0f921"
             ]
            ],
            "type": "histogram2d"
           }
          ],
          "histogram2dcontour": [
           {
            "colorbar": {
             "outlinewidth": 0,
             "ticks": ""
            },
            "colorscale": [
             [
              0,
              "#0d0887"
             ],
             [
              0.1111111111111111,
              "#46039f"
             ],
             [
              0.2222222222222222,
              "#7201a8"
             ],
             [
              0.3333333333333333,
              "#9c179e"
             ],
             [
              0.4444444444444444,
              "#bd3786"
             ],
             [
              0.5555555555555556,
              "#d8576b"
             ],
             [
              0.6666666666666666,
              "#ed7953"
             ],
             [
              0.7777777777777778,
              "#fb9f3a"
             ],
             [
              0.8888888888888888,
              "#fdca26"
             ],
             [
              1,
              "#f0f921"
             ]
            ],
            "type": "histogram2dcontour"
           }
          ],
          "mesh3d": [
           {
            "colorbar": {
             "outlinewidth": 0,
             "ticks": ""
            },
            "type": "mesh3d"
           }
          ],
          "parcoords": [
           {
            "line": {
             "colorbar": {
              "outlinewidth": 0,
              "ticks": ""
             }
            },
            "type": "parcoords"
           }
          ],
          "pie": [
           {
            "automargin": true,
            "type": "pie"
           }
          ],
          "scatter": [
           {
            "fillpattern": {
             "fillmode": "overlay",
             "size": 10,
             "solidity": 0.2
            },
            "type": "scatter"
           }
          ],
          "scatter3d": [
           {
            "line": {
             "colorbar": {
              "outlinewidth": 0,
              "ticks": ""
             }
            },
            "marker": {
             "colorbar": {
              "outlinewidth": 0,
              "ticks": ""
             }
            },
            "type": "scatter3d"
           }
          ],
          "scattercarpet": [
           {
            "marker": {
             "colorbar": {
              "outlinewidth": 0,
              "ticks": ""
             }
            },
            "type": "scattercarpet"
           }
          ],
          "scattergeo": [
           {
            "marker": {
             "colorbar": {
              "outlinewidth": 0,
              "ticks": ""
             }
            },
            "type": "scattergeo"
           }
          ],
          "scattergl": [
           {
            "marker": {
             "colorbar": {
              "outlinewidth": 0,
              "ticks": ""
             }
            },
            "type": "scattergl"
           }
          ],
          "scattermapbox": [
           {
            "marker": {
             "colorbar": {
              "outlinewidth": 0,
              "ticks": ""
             }
            },
            "type": "scattermapbox"
           }
          ],
          "scatterpolar": [
           {
            "marker": {
             "colorbar": {
              "outlinewidth": 0,
              "ticks": ""
             }
            },
            "type": "scatterpolar"
           }
          ],
          "scatterpolargl": [
           {
            "marker": {
             "colorbar": {
              "outlinewidth": 0,
              "ticks": ""
             }
            },
            "type": "scatterpolargl"
           }
          ],
          "scatterternary": [
           {
            "marker": {
             "colorbar": {
              "outlinewidth": 0,
              "ticks": ""
             }
            },
            "type": "scatterternary"
           }
          ],
          "surface": [
           {
            "colorbar": {
             "outlinewidth": 0,
             "ticks": ""
            },
            "colorscale": [
             [
              0,
              "#0d0887"
             ],
             [
              0.1111111111111111,
              "#46039f"
             ],
             [
              0.2222222222222222,
              "#7201a8"
             ],
             [
              0.3333333333333333,
              "#9c179e"
             ],
             [
              0.4444444444444444,
              "#bd3786"
             ],
             [
              0.5555555555555556,
              "#d8576b"
             ],
             [
              0.6666666666666666,
              "#ed7953"
             ],
             [
              0.7777777777777778,
              "#fb9f3a"
             ],
             [
              0.8888888888888888,
              "#fdca26"
             ],
             [
              1,
              "#f0f921"
             ]
            ],
            "type": "surface"
           }
          ],
          "table": [
           {
            "cells": {
             "fill": {
              "color": "#EBF0F8"
             },
             "line": {
              "color": "white"
             }
            },
            "header": {
             "fill": {
              "color": "#C8D4E3"
             },
             "line": {
              "color": "white"
             }
            },
            "type": "table"
           }
          ]
         },
         "layout": {
          "annotationdefaults": {
           "arrowcolor": "#2a3f5f",
           "arrowhead": 0,
           "arrowwidth": 1
          },
          "autotypenumbers": "strict",
          "coloraxis": {
           "colorbar": {
            "outlinewidth": 0,
            "ticks": ""
           }
          },
          "colorscale": {
           "diverging": [
            [
             0,
             "#8e0152"
            ],
            [
             0.1,
             "#c51b7d"
            ],
            [
             0.2,
             "#de77ae"
            ],
            [
             0.3,
             "#f1b6da"
            ],
            [
             0.4,
             "#fde0ef"
            ],
            [
             0.5,
             "#f7f7f7"
            ],
            [
             0.6,
             "#e6f5d0"
            ],
            [
             0.7,
             "#b8e186"
            ],
            [
             0.8,
             "#7fbc41"
            ],
            [
             0.9,
             "#4d9221"
            ],
            [
             1,
             "#276419"
            ]
           ],
           "sequential": [
            [
             0,
             "#0d0887"
            ],
            [
             0.1111111111111111,
             "#46039f"
            ],
            [
             0.2222222222222222,
             "#7201a8"
            ],
            [
             0.3333333333333333,
             "#9c179e"
            ],
            [
             0.4444444444444444,
             "#bd3786"
            ],
            [
             0.5555555555555556,
             "#d8576b"
            ],
            [
             0.6666666666666666,
             "#ed7953"
            ],
            [
             0.7777777777777778,
             "#fb9f3a"
            ],
            [
             0.8888888888888888,
             "#fdca26"
            ],
            [
             1,
             "#f0f921"
            ]
           ],
           "sequentialminus": [
            [
             0,
             "#0d0887"
            ],
            [
             0.1111111111111111,
             "#46039f"
            ],
            [
             0.2222222222222222,
             "#7201a8"
            ],
            [
             0.3333333333333333,
             "#9c179e"
            ],
            [
             0.4444444444444444,
             "#bd3786"
            ],
            [
             0.5555555555555556,
             "#d8576b"
            ],
            [
             0.6666666666666666,
             "#ed7953"
            ],
            [
             0.7777777777777778,
             "#fb9f3a"
            ],
            [
             0.8888888888888888,
             "#fdca26"
            ],
            [
             1,
             "#f0f921"
            ]
           ]
          },
          "colorway": [
           "#636efa",
           "#EF553B",
           "#00cc96",
           "#ab63fa",
           "#FFA15A",
           "#19d3f3",
           "#FF6692",
           "#B6E880",
           "#FF97FF",
           "#FECB52"
          ],
          "font": {
           "color": "#2a3f5f"
          },
          "geo": {
           "bgcolor": "white",
           "lakecolor": "white",
           "landcolor": "#E5ECF6",
           "showlakes": true,
           "showland": true,
           "subunitcolor": "white"
          },
          "hoverlabel": {
           "align": "left"
          },
          "hovermode": "closest",
          "mapbox": {
           "style": "light"
          },
          "paper_bgcolor": "white",
          "plot_bgcolor": "#E5ECF6",
          "polar": {
           "angularaxis": {
            "gridcolor": "white",
            "linecolor": "white",
            "ticks": ""
           },
           "bgcolor": "#E5ECF6",
           "radialaxis": {
            "gridcolor": "white",
            "linecolor": "white",
            "ticks": ""
           }
          },
          "scene": {
           "xaxis": {
            "backgroundcolor": "#E5ECF6",
            "gridcolor": "white",
            "gridwidth": 2,
            "linecolor": "white",
            "showbackground": true,
            "ticks": "",
            "zerolinecolor": "white"
           },
           "yaxis": {
            "backgroundcolor": "#E5ECF6",
            "gridcolor": "white",
            "gridwidth": 2,
            "linecolor": "white",
            "showbackground": true,
            "ticks": "",
            "zerolinecolor": "white"
           },
           "zaxis": {
            "backgroundcolor": "#E5ECF6",
            "gridcolor": "white",
            "gridwidth": 2,
            "linecolor": "white",
            "showbackground": true,
            "ticks": "",
            "zerolinecolor": "white"
           }
          },
          "shapedefaults": {
           "line": {
            "color": "#2a3f5f"
           }
          },
          "ternary": {
           "aaxis": {
            "gridcolor": "white",
            "linecolor": "white",
            "ticks": ""
           },
           "baxis": {
            "gridcolor": "white",
            "linecolor": "white",
            "ticks": ""
           },
           "bgcolor": "#E5ECF6",
           "caxis": {
            "gridcolor": "white",
            "linecolor": "white",
            "ticks": ""
           }
          },
          "title": {
           "x": 0.05
          },
          "xaxis": {
           "automargin": true,
           "gridcolor": "white",
           "linecolor": "white",
           "ticks": "",
           "title": {
            "standoff": 15
           },
           "zerolinecolor": "white",
           "zerolinewidth": 2
          },
          "yaxis": {
           "automargin": true,
           "gridcolor": "white",
           "linecolor": "white",
           "ticks": "",
           "title": {
            "standoff": 15
           },
           "zerolinecolor": "white",
           "zerolinewidth": 2
          }
         }
        },
        "title": {
         "text": "K/D Ratio"
        }
       }
      }
     },
     "metadata": {},
     "output_type": "display_data"
    }
   ],
   "source": [
    "fig = go.Figure()\n",
    "fig.add_trace(go.Scatter(x=records_df['Date time'], y=records_df['K/D Ratio'], mode='lines+markers', name='K/D Ratio', line=dict(color='#FF2A6D')))\n",
    "fig.update_layout(title='K/D Ratio', hovermode='x', plot_bgcolor='#01012B')"
   ]
  },
  {
   "cell_type": "code",
   "execution_count": 21,
   "metadata": {},
   "outputs": [],
   "source": [
    "def to_markdown(text):\n",
    "    \"\"\"Function to transform the text generated by AI to markdown\n",
    "\n",
    "    Args:\n",
    "        text (str): str text generated by AI\n",
    "\n",
    "    Returns:\n",
    "        Markdown: AI Text transformed to markdown\n",
    "    \"\"\"\n",
    "    text = text.replace('•', '  *')\n",
    "    return Markdown(textwrap.indent(text, '>', predicate=lambda _: True))"
   ]
  },
  {
   "cell_type": "code",
   "execution_count": 22,
   "metadata": {},
   "outputs": [],
   "source": [
    "#Using API Key to connect with the AI\n",
    "genai.configure(api_key=os.getenv('GOOGLE_AI_KEY'))"
   ]
  },
  {
   "cell_type": "code",
   "execution_count": 23,
   "metadata": {
    "metadata": {}
   },
   "outputs": [
    {
     "name": "stdout",
     "output_type": "stream",
     "text": [
      "models/gemini-1.0-pro\n",
      "models/gemini-1.0-pro-001\n",
      "models/gemini-1.0-pro-latest\n",
      "models/gemini-1.0-pro-vision-latest\n",
      "models/gemini-1.5-flash-latest\n",
      "models/gemini-1.5-pro-latest\n",
      "models/gemini-pro\n",
      "models/gemini-pro-vision\n"
     ]
    }
   ],
   "source": [
    "for m in genai.list_models():\n",
    "  if 'generateContent' in m.supported_generation_methods:\n",
    "    print(m.name)"
   ]
  },
  {
   "cell_type": "code",
   "execution_count": 33,
   "metadata": {
    "metadata": {}
   },
   "outputs": [],
   "source": [
    "#Selecting the model\n",
    "model = genai.GenerativeModel('gemini-1.5-pro-latest')"
   ]
  },
  {
   "cell_type": "code",
   "execution_count": 34,
   "metadata": {
    "metadata": {}
   },
   "outputs": [
    {
     "data": {
      "text/markdown": [
       ">## Halo Infinite Performance Analysis\n",
       ">\n",
       ">Let's analyze your Halo Infinite data and see what we can learn:\n",
       ">\n",
       ">**1. General Analysis:**\n",
       ">\n",
       ">* **Positive:** You consistently achieve high kill counts, demonstrating aggressive gameplay and good map awareness. Your headshot percentage is also decent, indicating good aim.\n",
       ">* **Areas for Improvement:** Your accuracy hovers around 45-50%, suggesting many shots miss their target. This lowers your efficiency and potentially wastes valuable ammo. Your K/D ratio fluctuates, implying inconsistency. \n",
       ">\n",
       ">**2. Best and Worst Dates:**\n",
       ">\n",
       ">* **Best:** \n",
       ">    * 27/02/2024 - High kill counts with low deaths, resulting in excellent K/D ratios of 7.8 and 5. \n",
       ">    * 07/03/2024 - Another strong day with high kills, respectable accuracy, and culminating in an 8.8 K/D.\n",
       ">* **Worst:** \n",
       ">    * 23/02/2024 -  Low K/D ratios, especially compared to later performances. This could be due to adjusting to the game mode or having an off day.\n",
       ">    * 22/03/2024 - While you secure good kill counts, the higher death counts suggest struggles against opponents or poor positioning, leading to lower K/D ratios. \n",
       ">\n",
       ">**3. Tips for Improvement:**\n",
       ">\n",
       ">* **Accuracy:** Focus on improving shot placement. Spend time in the Academy or custom games practicing against bots. Utilize aiming drills and try adjusting sensitivity settings for optimal control.\n",
       ">* **Consistency:**  Analyze matches with lower K/D ratios to identify repeated mistakes. Are you dying in specific locations?  Are certain weapons less effective? This will help refine your strategy. \n",
       ">* **Map Awareness:** Even with good kill counts, your deaths indicate potential issues with positioning. Utilize radar effectively and be mindful of flanking routes. Watch professional Halo Infinite gameplay to learn advanced positioning techniques. \n",
       ">\n",
       ">**4. Data Correlations:**\n",
       ">\n",
       ">* **Kills/Accuracy:**  There isn't a strong direct correlation. Some days you achieve high kills with lower accuracy, suggesting a spray-and-pray approach. Ideally, increasing accuracy should directly result in more efficient kills.\n",
       ">* **Damage Dealt/Damage Taken:** This connection is more evident. Higher kill games often correlate with higher damage dealt and received, reflecting aggressive gameplay.\n",
       ">* **K/D Ratio/Accuracy:** Generally, higher accuracy leads to a better K/D ratio, but this isn't always consistent in your data. Improving accuracy is crucial for maximizing your killing potential while minimizing deaths. \n",
       ">\n",
       ">**5. Playstyle and Improvement:**\n",
       ">\n",
       ">* **Assumed Playstyle:** You seem to favor an aggressive, kill-focused style, prioritizing engagements over a cautious approach. \n",
       ">* **Individual Improvement:**\n",
       ">    * **Weapon Choice:** Analyze your weapon usage data (not provided here). Are you consistently performing better with certain weapons? Focus on mastering those for maximum impact.\n",
       ">    * **Engagement Distance:**  Experiment with varying engagement distances.  Learn which weapons are optimal for close, medium, and long-range combat. This will diversify your approach. \n",
       ">    * **Movement:** Practice advanced movement techniques like strafing and crouch-spamming to improve your evasiveness during gunfights.\n",
       ">\n",
       ">**6. Reducing Negative Stats:**\n",
       ">\n",
       ">* **Improve Map Awareness:**  This is key to avoiding unnecessary deaths without drastically changing your playstyle.  Anticipate enemy locations and utilize cover effectively. \n",
       ">* **Strategic Retreats:**  Don't be afraid to disengage from unfavorable fights. Live to fight another day!\n",
       ">* **Grenade Usage:**  Practice using grenades proactively for area denial or flushing out opponents, creating opportunities for kills while minimizing risk.\n",
       ">\n",
       ">**7. In-Game Strategies and External Resources:**\n",
       ">\n",
       ">* **In-Game:**\n",
       ">    * **Power Weapon Control:** Prioritize acquiring power weapons like the Rocket Launcher or Sniper Rifle. These give you a significant advantage. \n",
       ">    * **Teamwork (if applicable):** In team-based modes, communicate effectively with teammates. Coordinate attacks and cover each other.\n",
       ">* **External Resources:**\n",
       ">    * **Halo Infinite Pro Gameplay:** Watching professional players provides valuable insights into positioning, advanced techniques, and game sense.\n",
       ">    * **Training Modes:** Utilize the Academy and custom games for focused practice on weaknesses identified from your data analysis.\n",
       ">    * **Online Communities:** Join Halo Infinite forums or communities to discuss strategies, share experiences, and learn from other players. \n",
       ">    * **Aim Trainers:** Utilize third-party aim trainers to specifically hone your accuracy and reaction time.\n",
       ">\n",
       ">By consistently applying these tips and resources, you can improve your Halo Infinite skills, refine your playstyle, and dominate the competition! \n"
      ],
      "text/plain": [
       "<IPython.core.display.Markdown object>"
      ]
     },
     "execution_count": 34,
     "metadata": {},
     "output_type": "execute_result"
    }
   ],
   "source": [
    "response = model.generate_content(f\"\"\"\n",
    "Use the following information: {records_df}, also consider that the training sessions used to generate the data are 8 bots against\n",
    "and the player in a free for all match in Halo Infinite, following Halo Championship Series rules, and perform the following tasks:\n",
    "1. Perform a general analysis of the data.\n",
    "2. Extract the dates with the best and worst results.\n",
    "3. Generate tips that can help the player improve their individually skills.\n",
    "4. Considering the results obtained, is there any correlation between the data?\n",
    "5. Can you assume what style of play the player uses and how could it improve individually?\n",
    "6. How should the player reduce its negative stats without altering the individual playstyle assumed in point 5?\n",
    "7. Based on point 6, What strategies can the player use within the game to overcome challenges and What resources are available outside the game that can help the player learn and grow?\"\"\")\n",
    "to_markdown(response.text)"
   ]
  },
  {
   "cell_type": "code",
   "execution_count": 26,
   "metadata": {
    "metadata": {}
   },
   "outputs": [],
   "source": [
    "def last_matchs_plot(data):\n",
    "    fig = go.Figure()\n",
    "    fig.add_trace(go.Scatter(x=data['Date time'], y=data['Kills'], mode='lines+markers', name='Kills', line=dict(color='#FF2A6D')))\n",
    "    fig.add_trace(go.Scatter(x=data['Date time'], y=data['Deaths'], mode='lines+markers', name='Deaths', line=dict(color='#05D9E8')))\n",
    "    fig.update_layout(title='Last Games', hovermode='x', plot_bgcolor='#01012B', width=1200, height=660)\n",
    "    return fig"
   ]
  },
  {
   "cell_type": "code",
   "execution_count": 27,
   "metadata": {
    "metadata": {}
   },
   "outputs": [],
   "source": [
    "def kd_ratio_plot(data):\n",
    "    fig = go.Figure()\n",
    "    fig.add_trace(go.Scatter(x=data['Date time'], y=data['K/D Ratio'], mode='lines+markers', name='K/D Ratio', line=dict(color='#FF2A6D')))\n",
    "    fig.update_layout(title='K/D Ratio', hovermode='x', plot_bgcolor='#01012B', width=1200, height=660)\n",
    "    return fig"
   ]
  },
  {
   "cell_type": "code",
   "execution_count": 28,
   "metadata": {
    "metadata": {}
   },
   "outputs": [],
   "source": [
    "def create_image_from_plot(plot):\n",
    "   \"\"\"\n",
    "   Creates a PIL Image object from a plot object without using temporary files.\n",
    "\n",
    "   Args:\n",
    "       plot: The plot object to convert to an image.\n",
    "\n",
    "   Returns:\n",
    "       The PIL Image object representing the plot.\n",
    "   \"\"\"\n",
    "\n",
    "   img_bytes = plot.to_image(format='png')\n",
    "   img_data = BytesIO(img_bytes)\n",
    "   img = Image.open(img_data)\n",
    "   return img\n",
    "\n",
    "plot = create_image_from_plot(kd_ratio_plot(records_df))"
   ]
  },
  {
   "cell_type": "code",
   "execution_count": 35,
   "metadata": {
    "metadata": {}
   },
   "outputs": [
    {
     "name": "stdout",
     "output_type": "stream",
     "text": [
      "Analyzing this K/D ratio plot without using averages requires a keen eye for trends and individual performance spikes. Here's a breakdown:\n",
      "\n",
      "**Initial Assessment:**\n",
      "\n",
      "* **Early Volatility:** The first few matches showcase fluctuating performance, with a noticeable dip in the second match followed by a spike in the fourth. This suggests the player was still adapting to the game's mechanics and finding their rhythm. \n",
      "* **First Peak:** Around match number 7, there's a significant peak, indicating a period of strong performance. This could be attributed to grasping core concepts or a particular playstyle working effectively.\n",
      "* **Second Peak:** Around match 15, another peak emerges, even higher than the first.  The player likely refined their strategy, improved map awareness, or honed specific weapon skills.\n",
      "* **Increased Opponents, Increased Volatility:** After match 20, where the player likely started facing 8 bots instead of 4, there's more volatility in the K/D ratio. Some matches are excellent, some are poor, highlighting the challenge of adapting to a more crowded and aggressive playing field.\n",
      "* **Recent Dip:** The last few matches show a decline in the K/D ratio. This might indicate fatigue, a shift in strategy that isn't working, or the bots adapting to the player's tactics.\n",
      "\n",
      "**Advice for Improvement:**\n",
      "\n",
      "* **Analyze Peak Performance:** The player should review recordings (if available) of matches 7 and 15 to understand what contributed to the high K/D ratios. What weapons were used? What positions on the map were favored? Replicating these successful strategies can be a strong foundation for improvement.\n",
      "* **Identify Weakness in Recent Matches:**  Similarly, reviewing the last few matches is crucial. Are deaths concentrated around specific weapons or map areas? Understanding the cause of recent setbacks can lead to targeted practice.\n",
      "* **Focus on 8-Bot Adaptation:** The data suggests the player might be struggling with the increased chaos of 8 opponents.  Focusing on positioning, map awareness, and quickly identifying threats will be crucial for success in the more demanding environment.\n",
      "* **Consider New Strategies:** If the bots seem to be catching on to current tactics, it's time to experiment. Trying new weapon combinations, exploring different movement patterns, and learning to predict bot behavior can give the player an edge.\n",
      "\n",
      "**Additional Notes:**\n",
      "\n",
      "* The time of day might play a role in performance. Are there matches consistently played during times of low energy or focus?\n",
      "* External factors like internet connection stability or hardware issues should be considered if there are unexplained performance drops.\n",
      "\n",
      "Remember, consistent practice and analysis are key for improvement in any competitive game. This plot provides valuable insight into the player's journey so far, and by focusing on the peaks and valleys, a clear path to further progress can be identified. \n",
      "\n"
     ]
    }
   ],
   "source": [
    "\n",
    "img_model = genai.GenerativeModel('gemini-1.5-pro-latest')\n",
    "promt = \"\"\"\n",
    "Use the plot and make an analysis about the data shown in it, using the next context:\n",
    "            1. The data is generated after a training match between a human and 8 bots in Halo infinite, following Halo Championship\n",
    "            series rules in a free for all match\n",
    "            2.  The focus of the training is to improve the skills of the player\n",
    "            3. The plot contains the results of all matches played so far\n",
    "            4. Have in mind that the first 5 matches were played against 4 bots instead of 8\n",
    "            5. Advice the player how to improve his skills based on the data analyzed\n",
    "            Also, do not calculate averages to do the analysis\n",
    "\"\"\"\n",
    "response = img_model.generate_content([promt, plot], stream=True)\n",
    "response.resolve()\n",
    "#to_markdown(response.text)\n",
    "for candidate in response.candidates:\n",
    "    answer = [part.text for part in candidate.content.parts]\n",
    "for i in answer:\n",
    "    print(i)"
   ]
  },
  {
   "cell_type": "code",
   "execution_count": 36,
   "metadata": {
    "metadata": {}
   },
   "outputs": [
    {
     "name": "stdout",
     "output_type": "stream",
     "text": [
      " Analyzing the data, it is clear that the player has improved their skills over time. The K/D ratio has increased from 2.0 in the first match to 6.0 in the most recent match. This is a significant improvement, and it is likely due to the player's increased experience and skill.\n",
      "\n",
      "There are a few things that the player can do to continue to improve their skills. First, they should focus on improving their aim. This can be done by practicing in the training mode or by playing against other players. Second, the player should focus on learning the maps and understanding the different strategies that can be used on each map. Third, the player should focus on improving their communication skills. This can be done by practicing with teammates or by watching professional matches.\n",
      "\n",
      "By following these tips, the player can continue to improve their skills and become a better Halo player.\n"
     ]
    }
   ],
   "source": [
    "try:\n",
    "    img_model = genai.GenerativeModel('emini-1.5-pro-latest')\n",
    "    promt = \"\"\"\n",
    "    Use the plot and make an analysis about the data shown in it, using the next context:\n",
    "            1. The data is generated after a training match between a human and 8 bots in Halo infinite, following Halo Championship\n",
    "            series rules in a free for all match\n",
    "            2.  The focus of the training is to improve the skills of the player\n",
    "            3. The plot contains the results of all matches played so far\n",
    "            4. Have in mind that the first 5 matches were played against 4 bots instead of 8\n",
    "            5. Advice the player how to improve his skills based on the data analyzed\n",
    "            Also, do not calculate averages to do the analysis\n",
    "    \"\"\"\n",
    "    response = img_model.generate_content([promt, plot], stream=True)\n",
    "    response.resolve()\n",
    "    to_markdown(response.text)\n",
    "except Exception as e:\n",
    "    img_model = genai.GenerativeModel('gemini-pro-vision')\n",
    "    promt = \"\"\"\n",
    "    Use the plot and make an analysis about the data shown in it, using the next context:\n",
    "            1. The data is generated after a training match between a human and 8 bots in Halo infinite, following Halo Championship\n",
    "            series rules in a free for all match\n",
    "            2.  The focus of the training is to improve the skills of the player\n",
    "            3. The plot contains the results of all matches played so far\n",
    "            4. Have in mind that the first 5 matches were played against 4 bots instead of 8\n",
    "            5. Advice the player how to improve his skills based on the data analyzed\n",
    "            Also, do not calculate averages to do the analysis\n",
    "    \"\"\"\n",
    "    response = img_model.generate_content([promt, plot], stream=True)\n",
    "    response.resolve()\n",
    "    for candidate in response.candidates:\n",
    "        answer = [part.text for part in candidate.content.parts]\n",
    "    for i in answer:\n",
    "        print(i)"
   ]
  },
  {
   "cell_type": "code",
   "execution_count": null,
   "metadata": {},
   "outputs": [],
   "source": []
  }
 ],
 "metadata": {
  "kernelspec": {
   "display_name": "DS",
   "language": "python",
   "name": "python3"
  },
  "language_info": {
   "codemirror_mode": {
    "name": "ipython",
    "version": 3
   },
   "file_extension": ".py",
   "mimetype": "text/x-python",
   "name": "python",
   "nbconvert_exporter": "python",
   "pygments_lexer": "ipython3",
   "version": "3.9.12"
  }
 },
 "nbformat": 4,
 "nbformat_minor": 2
}
